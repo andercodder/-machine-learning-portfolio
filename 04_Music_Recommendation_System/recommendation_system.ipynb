{
 "cells": [
  {
   "cell_type": "markdown",
   "metadata": {},
   "source": [
    "# Task 3"
   ]
  },
  {
   "cell_type": "code",
   "execution_count": 1,
   "metadata": {},
   "outputs": [],
   "source": [
    "import pandas as pd\n",
    "import numpy as np\n",
    "import matplotlib.pyplot as plt\n",
    "import seaborn as sns\n",
    "from sklearn.preprocessing import StandardScaler\n",
    "from sklearn.model_selection import train_test_split\n",
    "from sklearn.linear_model import LogisticRegression\n",
    "from sklearn.metrics import confusion_matrix, classification_report\n",
    "from sklearn.metrics.pairwise import cosine_similarity\n",
    "from sklearn.decomposition import PCA"
   ]
  },
  {
   "cell_type": "markdown",
   "metadata": {},
   "source": [
    "3.1 Data analysis\n",
    "\n",
    "• What are the most listened songs? \\\n",
    "• Who are the most popular artists? \\\n",
    "• How is the distribution of song count for users "
   ]
  },
  {
   "cell_type": "code",
   "execution_count": 2,
   "metadata": {},
   "outputs": [],
   "source": [
    "# Load the data\n",
    "song_df = pd.read_csv('song_dataset.csv')"
   ]
  },
  {
   "cell_type": "code",
   "execution_count": 3,
   "metadata": {},
   "outputs": [
    {
     "name": "stdout",
     "output_type": "stream",
     "text": [
      "<class 'pandas.core.frame.DataFrame'>\n",
      "RangeIndex: 102627 entries, 0 to 102626\n",
      "Data columns (total 7 columns):\n",
      " #   Column       Non-Null Count   Dtype \n",
      "---  ------       --------------   ----- \n",
      " 0   user         102627 non-null  object\n",
      " 1   song         102627 non-null  object\n",
      " 2   play_count   102627 non-null  int64 \n",
      " 3   title        102627 non-null  object\n",
      " 4   release      102627 non-null  object\n",
      " 5   artist_name  102627 non-null  object\n",
      " 6   year         102627 non-null  int64 \n",
      "dtypes: int64(2), object(5)\n",
      "memory usage: 5.5+ MB\n"
     ]
    }
   ],
   "source": [
    "song_df.info()"
   ]
  },
  {
   "cell_type": "code",
   "execution_count": 4,
   "metadata": {},
   "outputs": [
    {
     "data": {
      "text/plain": [
       "np.int64(1055)"
      ]
     },
     "execution_count": 4,
     "metadata": {},
     "output_type": "execute_result"
    }
   ],
   "source": [
    "song_df.duplicated().sum()"
   ]
  },
  {
   "cell_type": "code",
   "execution_count": 5,
   "metadata": {},
   "outputs": [
    {
     "data": {
      "text/html": [
       "<div>\n",
       "<style scoped>\n",
       "    .dataframe tbody tr th:only-of-type {\n",
       "        vertical-align: middle;\n",
       "    }\n",
       "\n",
       "    .dataframe tbody tr th {\n",
       "        vertical-align: top;\n",
       "    }\n",
       "\n",
       "    .dataframe thead th {\n",
       "        text-align: right;\n",
       "    }\n",
       "</style>\n",
       "<table border=\"1\" class=\"dataframe\">\n",
       "  <thead>\n",
       "    <tr style=\"text-align: right;\">\n",
       "      <th></th>\n",
       "      <th>user</th>\n",
       "      <th>song</th>\n",
       "      <th>play_count</th>\n",
       "      <th>title</th>\n",
       "      <th>release</th>\n",
       "      <th>artist_name</th>\n",
       "      <th>year</th>\n",
       "    </tr>\n",
       "  </thead>\n",
       "  <tbody>\n",
       "    <tr>\n",
       "      <th>0</th>\n",
       "      <td>b80344d063b5ccb3212f76538f3d9e43d87dca9e</td>\n",
       "      <td>SOAKIMP12A8C130995</td>\n",
       "      <td>1</td>\n",
       "      <td>The Cove</td>\n",
       "      <td>Thicker Than Water</td>\n",
       "      <td>Jack Johnson</td>\n",
       "      <td>0</td>\n",
       "    </tr>\n",
       "    <tr>\n",
       "      <th>1</th>\n",
       "      <td>b80344d063b5ccb3212f76538f3d9e43d87dca9e</td>\n",
       "      <td>SOAPDEY12A81C210A9</td>\n",
       "      <td>1</td>\n",
       "      <td>Nothing from Nothing</td>\n",
       "      <td>To Die For</td>\n",
       "      <td>Billy Preston</td>\n",
       "      <td>1974</td>\n",
       "    </tr>\n",
       "    <tr>\n",
       "      <th>2</th>\n",
       "      <td>b80344d063b5ccb3212f76538f3d9e43d87dca9e</td>\n",
       "      <td>SOBBMDR12A8C13253B</td>\n",
       "      <td>2</td>\n",
       "      <td>Entre Dos Aguas</td>\n",
       "      <td>Flamenco Para Niños</td>\n",
       "      <td>Paco De Lucia</td>\n",
       "      <td>1976</td>\n",
       "    </tr>\n",
       "    <tr>\n",
       "      <th>3</th>\n",
       "      <td>b80344d063b5ccb3212f76538f3d9e43d87dca9e</td>\n",
       "      <td>SOBFNSP12AF72A0E22</td>\n",
       "      <td>1</td>\n",
       "      <td>Under Cold Blue Stars</td>\n",
       "      <td>Under Cold Blue Stars</td>\n",
       "      <td>Josh Rouse</td>\n",
       "      <td>2002</td>\n",
       "    </tr>\n",
       "    <tr>\n",
       "      <th>4</th>\n",
       "      <td>b80344d063b5ccb3212f76538f3d9e43d87dca9e</td>\n",
       "      <td>SOBFOVM12A58A7D494</td>\n",
       "      <td>1</td>\n",
       "      <td>Riot Radio (Soundtrack Version)</td>\n",
       "      <td>Nick &amp; Norah's Infinite Playlist - Original Mo...</td>\n",
       "      <td>The Dead 60s</td>\n",
       "      <td>0</td>\n",
       "    </tr>\n",
       "  </tbody>\n",
       "</table>\n",
       "</div>"
      ],
      "text/plain": [
       "                                       user                song  play_count  \\\n",
       "0  b80344d063b5ccb3212f76538f3d9e43d87dca9e  SOAKIMP12A8C130995           1   \n",
       "1  b80344d063b5ccb3212f76538f3d9e43d87dca9e  SOAPDEY12A81C210A9           1   \n",
       "2  b80344d063b5ccb3212f76538f3d9e43d87dca9e  SOBBMDR12A8C13253B           2   \n",
       "3  b80344d063b5ccb3212f76538f3d9e43d87dca9e  SOBFNSP12AF72A0E22           1   \n",
       "4  b80344d063b5ccb3212f76538f3d9e43d87dca9e  SOBFOVM12A58A7D494           1   \n",
       "\n",
       "                             title  \\\n",
       "0                         The Cove   \n",
       "1             Nothing from Nothing   \n",
       "2                  Entre Dos Aguas   \n",
       "3            Under Cold Blue Stars   \n",
       "4  Riot Radio (Soundtrack Version)   \n",
       "\n",
       "                                             release    artist_name  year  \n",
       "0                                 Thicker Than Water   Jack Johnson     0  \n",
       "1                                         To Die For  Billy Preston  1974  \n",
       "2                                Flamenco Para Niños  Paco De Lucia  1976  \n",
       "3                              Under Cold Blue Stars     Josh Rouse  2002  \n",
       "4  Nick & Norah's Infinite Playlist - Original Mo...   The Dead 60s     0  "
      ]
     },
     "execution_count": 5,
     "metadata": {},
     "output_type": "execute_result"
    }
   ],
   "source": [
    "song_df.head()"
   ]
  },
  {
   "cell_type": "code",
   "execution_count": 6,
   "metadata": {
    "vscode": {
     "languageId": "ruby"
    }
   },
   "outputs": [
    {
     "name": "stdout",
     "output_type": "stream",
     "text": [
      "                                               title  play_count\n",
      "0                                              Words        1890\n",
      "1                                     You're The One        1689\n",
      "2                                            Revelry        1490\n",
      "3                                               Undo        1443\n",
      "4  Horn Concerto No. 4 in E flat K495: II. Romanc...         921\n",
      "5                                  Paradise & Dreams         805\n",
      "6                                      Sehr kosmisch         795\n",
      "7                                            Secrets         712\n",
      "8                                   Somebody To Love         692\n",
      "9                                       Use Somebody         660\n"
     ]
    }
   ],
   "source": [
    "# find the the max play_count value of the song titles\n",
    "most_listened_songs=song_df.groupby('song',observed=True)['play_count'].sum().sort_values(ascending=False)[:10]\n",
    "result = pd.DataFrame(most_listened_songs).merge(song_df[['song', 'title']].drop_duplicates(),left_index=True,right_on='song')[['title', 'play_count']]\n",
    "result.reset_index(drop=True, inplace=True)\n",
    "print(result)"
   ]
  },
  {
   "cell_type": "code",
   "execution_count": 7,
   "metadata": {},
   "outputs": [
    {
     "name": "stdout",
     "output_type": "stream",
     "text": [
      "the 10 most popular songs\n",
      "                  song  user                                              title\n",
      "0  SOFRQTD12A81C233C0   221                                      Sehr kosmisch\n",
      "1  SOAUWYT12A81C206F1   197                                               Undo\n",
      "2  SOAXGDH12A8C13F8A1   190                     Dog Days Are Over (Radio Edit)\n",
      "3  SOSXLTC12AF72A7F54   178                                            Revelry\n",
      "4  SOBONKR12A58A7A7E0   177                                     You're The One\n",
      "5  SONYKOW12AB01849C9   175                                            Secrets\n",
      "6  SOEGIYH12A6D4FC0E3   144  Horn Concerto No. 4 in E flat K495: II. Romanc...\n",
      "7  SOLFXKT12AB017E3E0   142                                          Fireflies\n",
      "8  SOFLJQZ12A6D4FADA6   130                                           Tive Sim\n",
      "9  SODJWHY12A8C142CCE   125                                   Hey_ Soul Sister\n"
     ]
    }
   ],
   "source": [
    "#  find the most popular song\n",
    "most_popular_song=song_df.groupby('song',observed=True)['user'].nunique().sort_values(ascending=False)[:10]\n",
    "result =pd.DataFrame(most_popular_song).merge(song_df[['song','title']],on='song',how='left').drop_duplicates().reset_index(drop=True)\n",
    "print(\"the 10 most popular songs\\n\", result)"
   ]
  },
  {
   "cell_type": "code",
   "execution_count": 8,
   "metadata": {},
   "outputs": [
    {
     "name": "stdout",
     "output_type": "stream",
     "text": [
      "the 10 most popular artists\n",
      " artist_name\n",
      "Kings Of Leon             2765\n",
      "The Black Keys            1912\n",
      "Jack the Ripper           1890\n",
      "Coldplay                  1830\n",
      "Dwight Yoakam             1705\n",
      "Florence + The Machine    1682\n",
      "Eminem                    1650\n",
      "Björk                     1526\n",
      "Justin Bieber             1504\n",
      "Guns N' Roses             1309\n",
      "Name: play_count, dtype: int64\n"
     ]
    }
   ],
   "source": [
    "#  find the most popular artists\n",
    "most_popular_artist=song_df.groupby('artist_name',observed=True)['play_count'].sum().sort_values(ascending=False)[:10]\n",
    "print(\"the 10 most popular artists\\n\", most_popular_artist)"
   ]
  },
  {
   "cell_type": "code",
   "execution_count": 9,
   "metadata": {},
   "outputs": [
    {
     "name": "stdout",
     "output_type": "stream",
     "text": [
      "the 10 most popular artists\n",
      " artist_name\n",
      "Kings Of Leon             313\n",
      "Coldplay                  284\n",
      "Florence + The Machine    233\n",
      "Björk                     224\n",
      "OneRepublic               222\n",
      "Harmonia                  221\n",
      "Train                     209\n",
      "Radiohead                 187\n",
      "Dwight Yoakam             187\n",
      "Eminem                    174\n",
      "Name: user, dtype: int64\n"
     ]
    }
   ],
   "source": [
    "#  find the most popular artists for users\n",
    "most_popular_artist=song_df.groupby('artist_name',observed=True)['user'].nunique().sort_values(ascending=False)[:10]\n",
    "print(\"the 10 most popular artists\\n\", most_popular_artist)"
   ]
  },
  {
   "cell_type": "code",
   "execution_count": 10,
   "metadata": {},
   "outputs": [
    {
     "data": {
      "text/plain": [
       "array(['SOAKIMP12A8C130995', 'SOAPDEY12A81C210A9', 'SOBBMDR12A8C13253B',\n",
       "       ..., 'SOZQRJI12AB01841C6', 'SOZSHVM12AB018417F',\n",
       "       'SOECNFX12A8C143CEA'], dtype=object)"
      ]
     },
     "execution_count": 10,
     "metadata": {},
     "output_type": "execute_result"
    }
   ],
   "source": [
    "song_df['song'].unique()"
   ]
  },
  {
   "cell_type": "code",
   "execution_count": 11,
   "metadata": {},
   "outputs": [],
   "source": [
    "#the distribution of song count for users \n",
    "song_count=song_df.groupby('user',observed=True)['song'].count().sort_values(ascending=True)\n"
   ]
  },
  {
   "cell_type": "code",
   "execution_count": 12,
   "metadata": {},
   "outputs": [
    {
     "data": {
      "image/png": "[encoded data removed]",
      "text/plain": [
       "<Figure size 1200x600 with 1 Axes>"
      ]
     },
     "metadata": {},
     "output_type": "display_data"
    }
   ],
   "source": [
    "plt.figure(figsize=(12, 6))\n",
    "plt.scatter(range(len(song_count)), song_count.values, alpha=0.5, s=10)\n",
    "plt.title('distribution')\n",
    "plt.xlabel('user index')\n",
    "plt.ylabel('number of songs')\n",
    "plt.grid(True, alpha=0.3)\n",
    "plt.show()"
   ]
  },
  {
   "cell_type": "markdown",
   "metadata": {},
   "source": [
    "# 3.1.2 EDA for song dataset"
   ]
  },
  {
   "cell_type": "code",
   "execution_count": 13,
   "metadata": {},
   "outputs": [
    {
     "data": {
      "text/plain": [
       "102627"
      ]
     },
     "execution_count": 13,
     "metadata": {},
     "output_type": "execute_result"
    }
   ],
   "source": [
    "len(song_df['song'])"
   ]
  },
  {
   "cell_type": "code",
   "execution_count": 14,
   "metadata": {},
   "outputs": [
    {
     "name": "stdout",
     "output_type": "stream",
     "text": [
      "2042\n"
     ]
    }
   ],
   "source": [
    "user_count = song_df['user'].nunique()\n",
    "print(user_count)"
   ]
  },
  {
   "cell_type": "code",
   "execution_count": 15,
   "metadata": {},
   "outputs": [
    {
     "name": "stdout",
     "output_type": "stream",
     "text": [
      "44458\n"
     ]
    }
   ],
   "source": [
    "song_count = song_df['song'].nunique()\n",
    "print(song_count)"
   ]
  },
  {
   "cell_type": "code",
   "execution_count": 16,
   "metadata": {},
   "outputs": [
    {
     "name": "stdout",
     "output_type": "stream",
     "text": [
      "20164\n"
     ]
    }
   ],
   "source": [
    "release_count = song_df['release'].nunique()\n",
    "print(release_count)"
   ]
  },
  {
   "cell_type": "code",
   "execution_count": 17,
   "metadata": {},
   "outputs": [
    {
     "name": "stdout",
     "output_type": "stream",
     "text": [
      "[   0 1974 1976 2002 2006 2008 2007 2005 1999 1993 1989 2004 2009 1959\n",
      " 1992 1983 1998 2001 1985 1987 2003 1997 2010 1984 1990 1981 1968 1986\n",
      " 1991 1963 1982 1967 1996 1964 2000 1988 1994 1995 1973 1978 1979 1975\n",
      " 1965 1962 1972 1971 1970 1977 1980 1969 1960 1956 1966 1954 1957 1955\n",
      " 1958 1961 1948 1929 1953 1947 1950 1937 1945 1940]\n"
     ]
    }
   ],
   "source": [
    "year_count = song_df['year'].unique()\n",
    "print(year_count)"
   ]
  },
  {
   "cell_type": "code",
   "execution_count": 18,
   "metadata": {},
   "outputs": [
    {
     "data": {
      "text/plain": [
       "np.int64(1055)"
      ]
     },
     "execution_count": 18,
     "metadata": {},
     "output_type": "execute_result"
    }
   ],
   "source": [
    "song_df.duplicated().sum()"
   ]
  },
  {
   "cell_type": "code",
   "execution_count": 19,
   "metadata": {},
   "outputs": [
    {
     "name": "stdout",
     "output_type": "stream",
     "text": [
      "19283\n"
     ]
    }
   ],
   "source": [
    "year_zero_count = song_df[song_df['year'] == 0]['year'].count()\n",
    "print(year_zero_count)"
   ]
  },
  {
   "cell_type": "markdown",
   "metadata": {},
   "source": [
    "# 3.1.3 Constructing a user profile"
   ]
  },
  {
   "cell_type": "code",
   "execution_count": 20,
   "metadata": {},
   "outputs": [
    {
     "name": "stdout",
     "output_type": "stream",
     "text": [
      "average play count:  2.778571567529206\n",
      "max play count:  1890\n",
      "min play count:  1\n"
     ]
    },
    {
     "data": {
      "image/png": "[encoded data removed]",
      "text/plain": [
       "<Figure size 1200x600 with 1 Axes>"
      ]
     },
     "metadata": {},
     "output_type": "display_data"
    }
   ],
   "source": [
    "# Average number of times a song has been played, maximum and minimum values\n",
    "average_play_count = song_df.groupby('song',observed=True)['play_count'].mean().mean()\n",
    "max_play_count = song_df.groupby('song',observed=True)['play_count'].max().max()\n",
    "min_play_count = song_df.groupby('song',observed=True)['play_count'].min().min()\n",
    "print(\"average play count: \", average_play_count)\n",
    "print(\"max play count: \", max_play_count)\n",
    "print(\"min play count: \", min_play_count)\n",
    "#the distribution of song play_count for songs\n",
    "song_play_count=song_df.groupby('song',observed=True)['play_count'].sum().sort_values(ascending=True)\n",
    "plt.figure(figsize=(12, 6))\n",
    "plt.scatter(range(len(song_play_count)), song_play_count.values, alpha=0.5, s=10)\n",
    "plt.title('distribution of song play_count')\n",
    "plt.xlabel('song index')\n",
    "plt.ylabel('number of play_count')\n",
    "plt.grid(True, alpha=0.3)\n",
    "plt.show()"
   ]
  },
  {
   "cell_type": "code",
   "execution_count": 21,
   "metadata": {},
   "outputs": [
    {
     "data": {
      "image/png": "[encoded data removed]",
      "text/plain": [
       "<Figure size 1000x600 with 1 Axes>"
      ]
     },
     "metadata": {},
     "output_type": "display_data"
    },
    {
     "data": {
      "image/png": "[encoded data removed]",
      "text/plain": [
       "<Figure size 1200x800 with 2 Axes>"
      ]
     },
     "metadata": {},
     "output_type": "display_data"
    },
    {
     "name": "stdout",
     "output_type": "stream",
     "text": [
      "\n",
      "Mean Features for Each Cluster:\n",
      "         total_plays  unique_songs  unique_artists  unique_release  \\\n",
      "Cluster                                                              \n",
      "0         217.210526     82.663616       49.681922       62.638444   \n",
      "1         585.504505    215.396396      105.819820      144.927928   \n",
      "2        1531.500000     20.000000       12.000000       14.000000   \n",
      "3        1398.333333    650.833333      332.333333      445.000000   \n",
      "4         458.569767     35.476744       22.139535       26.988372   \n",
      "5          60.970000     23.550714       16.371429       19.357857   \n",
      "\n",
      "         avg_plays_per_artists  \n",
      "Cluster                         \n",
      "0                     3.682485  \n",
      "1                     4.269666  \n",
      "2                   110.137427  \n",
      "3                     3.061642  \n",
      "4                    18.982034  \n",
      "5                     3.285272  \n"
     ]
    }
   ],
   "source": [
    "user_features = pd.DataFrame()\n",
    "user_features['total_plays'] = song_df.groupby('user', observed=True)['play_count'].sum()\n",
    "user_features['unique_songs'] = song_df.groupby('user', observed=True)['song'].nunique()\n",
    "user_features['unique_artists'] = song_df.groupby('user', observed=True)['artist_name'].nunique()\n",
    "user_features['unique_release'] = song_df.groupby('user', observed=True)['release'].nunique()\n",
    "user_features['avg_plays_per_artists'] = (song_df.groupby('user', observed=True)['play_count'].sum() / \n",
    "                                        song_df.groupby('user', observed=True)['release'].nunique())\n",
    "# why not consider the year，because year have too much zeros\n",
    "\n",
    "from sklearn.preprocessing import StandardScaler\n",
    "scaler = StandardScaler()\n",
    "features_scaled = scaler.fit_transform(user_features)\n",
    "# Use Elbow Method to find the optimal K\n",
    "from sklearn.cluster import KMeans\n",
    "inertias = []\n",
    "K = range(1, 11)\n",
    "for k in K:\n",
    "    kmeans = KMeans(n_clusters=k, random_state=42)\n",
    "    kmeans.fit(features_scaled)\n",
    "    inertias.append(kmeans.inertia_)\n",
    "    \n",
    "plt.figure(figsize=(10, 6))\n",
    "plt.plot(K, inertias, 'bx-')\n",
    "plt.xlabel('K Value')\n",
    "plt.ylabel('Inertia')\n",
    "plt.title('Elbow Method')\n",
    "plt.show()\n",
    "\n",
    "best_k = 6 # Choose best k based on elbow plot\n",
    "kmeans = KMeans(n_clusters=best_k, random_state=42)\n",
    "user_features['Cluster'] = kmeans.fit_predict(features_scaled)\n",
    "\n",
    "pca = PCA(n_components=2)\n",
    "features_pca = pca.fit_transform(features_scaled)\n",
    "plt.figure(figsize=(12, 8))\n",
    "scatter = plt.scatter(features_pca[:, 0], features_pca[:, 1], \n",
    "                     c=user_features['Cluster'], cmap='viridis')\n",
    "plt.scatter(pca.transform(kmeans.cluster_centers_)[:, 0],\n",
    "           pca.transform(kmeans.cluster_centers_)[:, 1], \n",
    "           marker='x', s=200, linewidths=3, color='r', label='Cluster Centers')\n",
    "plt.colorbar(scatter)\n",
    "plt.xlabel('First Principal Component')\n",
    "plt.ylabel('Second Principal Component')\n",
    "plt.title('User Clustering Results')\n",
    "plt.legend( )\n",
    "plt.show()\n",
    "cluster_means = user_features.groupby('Cluster').mean()\n",
    "print(\"\\nMean Features for Each Cluster:\")\n",
    "print(cluster_means)"
   ]
  },
  {
   "cell_type": "code",
   "execution_count": 22,
   "metadata": {},
   "outputs": [
    {
     "name": "stdout",
     "output_type": "stream",
     "text": [
      "PCA Components Weights:\n",
      "     total_plays  unique_songs  unique_artists  unique_release  \\\n",
      "PC1      0.45429      0.510571        0.506461        0.521849   \n",
      "PC2      0.39465     -0.123320       -0.173850       -0.162138   \n",
      "\n",
      "     avg_plays_per_artists  \n",
      "PC1               0.064097  \n",
      "PC2               0.878937  \n"
     ]
    }
   ],
   "source": [
    "components = pd.DataFrame(\n",
    "    pca.components_,\n",
    "    columns=user_features.drop('Cluster', axis=1).columns,\n",
    "    index=['PC1', 'PC2']\n",
    ")\n",
    "\n",
    "print(\"PCA Components Weights:\")\n",
    "print(components)"
   ]
  },
  {
   "cell_type": "code",
   "execution_count": 23,
   "metadata": {},
   "outputs": [
    {
     "name": "stdout",
     "output_type": "stream",
     "text": [
      "Cluster Statistics:\n",
      "        total_plays        unique_songs unique_artists unique_release  \\\n",
      "               mean    sum         mean           mean           mean   \n",
      "Cluster                                                                 \n",
      "0            217.21  94921        82.66          49.68          62.64   \n",
      "1            585.50  64991       215.40         105.82         144.93   \n",
      "2           1531.50   3063        20.00          12.00          14.00   \n",
      "3           1398.33   8390       650.83         332.33         445.00   \n",
      "4            458.57  39437        35.48          22.14          26.99   \n",
      "5             60.97  85358        23.55          16.37          19.36   \n",
      "\n",
      "        avg_plays_per_artists  \n",
      "                         mean  \n",
      "Cluster                        \n",
      "0                        3.68  \n",
      "1                        4.27  \n",
      "2                      110.14  \n",
      "3                        3.06  \n",
      "4                       18.98  \n",
      "5                        3.29  \n",
      "\n",
      "Cluster Size Percentages:\n",
      "Cluster\n",
      "0                 21.4%\n",
      "1                  5.4%\n",
      "2                  0.1%\n",
      "3                  0.3%\n",
      "4                  4.2%\n",
      "5    68.60000000000001%\n",
      "Name: proportion, dtype: object\n"
     ]
    }
   ],
   "source": [
    "cluster_stats = user_features.groupby('Cluster').agg({\n",
    "    'total_plays': ['mean','sum'],\n",
    "    'unique_songs': 'mean',\n",
    "    'unique_artists': 'mean',\n",
    "    'unique_release': 'mean',\n",
    "    'avg_plays_per_artists': 'mean',\n",
    "}).round(2)\n",
    "print(\"Cluster Statistics:\")\n",
    "print(cluster_stats)\n",
    "\n",
    "cluster_sizes = user_features['Cluster'].value_counts(normalize=True).round(3) * 100\n",
    "print(\"\\nCluster Size Percentages:\")\n",
    "print(cluster_sizes.sort_index().map(lambda x: f\"{x}%\"))"
   ]
  },
  {
   "cell_type": "markdown",
   "metadata": {},
   "source": [
    "# User analysis\n",
    "Based on the above analysis, we can find that there are very few audiophiles, accounting for only about 5% i.e. clusters 2 to 4. Cluster 5 is the mainstream users of the platform, which are light users. They listen to a very narrow range of music and only listen to it on average about 61 times, while 21.4% of the main users account for about one third of the plays and are characterised by not being more attracted to particular artists, as is the case with the light users. The remaining 5.4 per cent of users account for the other third, and they seem to have more of their own favourite styles."
   ]
  },
  {
   "cell_type": "markdown",
   "metadata": {},
   "source": [
    "# 3.2 Reconmandation \n",
    "\n",
    "According to the above analysis, facing light and mainstream users still give priority to similarity and breadth recommendation, so that they can find their favourite style and improve their platform stickiness.\n",
    "It is better to use collaborative filtering algorithm here.\n",
    "\n",
    "In the face of deep users, perhaps we can change the strategy, that is, based on the similarity of the song to make recommendations."
   ]
  },
  {
   "cell_type": "markdown",
   "metadata": {},
   "source": [
    "# 3.2.1  data processing\n",
    "\n",
    "First merge the duplicates. Because there is no apparent time series in this data, the duplicate columns are removed."
   ]
  },
  {
   "cell_type": "code",
   "execution_count": 24,
   "metadata": {},
   "outputs": [
    {
     "name": "stdout",
     "output_type": "stream",
     "text": [
      "102627\n",
      "1055\n",
      "101572\n",
      "0\n"
     ]
    },
    {
     "data": {
      "text/html": [
       "<div>\n",
       "<style scoped>\n",
       "    .dataframe tbody tr th:only-of-type {\n",
       "        vertical-align: middle;\n",
       "    }\n",
       "\n",
       "    .dataframe tbody tr th {\n",
       "        vertical-align: top;\n",
       "    }\n",
       "\n",
       "    .dataframe thead th {\n",
       "        text-align: right;\n",
       "    }\n",
       "</style>\n",
       "<table border=\"1\" class=\"dataframe\">\n",
       "  <thead>\n",
       "    <tr style=\"text-align: right;\">\n",
       "      <th></th>\n",
       "      <th>song</th>\n",
       "      <th>title</th>\n",
       "      <th>artist_name</th>\n",
       "      <th>release</th>\n",
       "      <th>year</th>\n",
       "      <th>user</th>\n",
       "      <th>play_count</th>\n",
       "    </tr>\n",
       "  </thead>\n",
       "  <tbody>\n",
       "    <tr>\n",
       "      <th>0</th>\n",
       "      <td>SOAAAGQ12A8C1420C8</td>\n",
       "      <td>Orgelblut</td>\n",
       "      <td>Bohren &amp; Der Club Of Gore</td>\n",
       "      <td>Dolores</td>\n",
       "      <td>2008</td>\n",
       "      <td>3ff7a31452eeabd7a4e07f0d243c674e3d0adf46</td>\n",
       "      <td>5</td>\n",
       "    </tr>\n",
       "    <tr>\n",
       "      <th>1</th>\n",
       "      <td>SOAAAGQ12A8C1420C8</td>\n",
       "      <td>Orgelblut</td>\n",
       "      <td>Bohren &amp; Der Club Of Gore</td>\n",
       "      <td>Dolores</td>\n",
       "      <td>2008</td>\n",
       "      <td>be0db87ab60e3a2de60354f34d9e37341b65eb1e</td>\n",
       "      <td>1</td>\n",
       "    </tr>\n",
       "    <tr>\n",
       "      <th>2</th>\n",
       "      <td>SOAABMP12A6D4F7633</td>\n",
       "      <td>Goomba Boomba</td>\n",
       "      <td>Yma Sumac</td>\n",
       "      <td>Mambo! (World)</td>\n",
       "      <td>1954</td>\n",
       "      <td>e8ebf671cf99a8dc0b2301a36d3207004777c636</td>\n",
       "      <td>2</td>\n",
       "    </tr>\n",
       "    <tr>\n",
       "      <th>3</th>\n",
       "      <td>SOAABVA12AC3DF673F</td>\n",
       "      <td>Can't Get Over You</td>\n",
       "      <td>Vivian Girls</td>\n",
       "      <td>Everything Goes Wrong</td>\n",
       "      <td>2009</td>\n",
       "      <td>4aaa6038242f092a33b49558f59a94f0f47b6c5c</td>\n",
       "      <td>2</td>\n",
       "    </tr>\n",
       "    <tr>\n",
       "      <th>4</th>\n",
       "      <td>SOAACPJ12A81C21360</td>\n",
       "      <td>Cearc Agus Coileach / The Hen And Cock</td>\n",
       "      <td>Mícheál Ó Súilleabháin</td>\n",
       "      <td>Casadh/Turning</td>\n",
       "      <td>0</td>\n",
       "      <td>0aae3885afd9ec62df38635031d1e00cf7c091db</td>\n",
       "      <td>1</td>\n",
       "    </tr>\n",
       "  </tbody>\n",
       "</table>\n",
       "</div>"
      ],
      "text/plain": [
       "                 song                                   title  \\\n",
       "0  SOAAAGQ12A8C1420C8                               Orgelblut   \n",
       "1  SOAAAGQ12A8C1420C8                               Orgelblut   \n",
       "2  SOAABMP12A6D4F7633                           Goomba Boomba   \n",
       "3  SOAABVA12AC3DF673F                      Can't Get Over You   \n",
       "4  SOAACPJ12A81C21360  Cearc Agus Coileach / The Hen And Cock   \n",
       "\n",
       "                 artist_name                release  year  \\\n",
       "0  Bohren & Der Club Of Gore                Dolores  2008   \n",
       "1  Bohren & Der Club Of Gore                Dolores  2008   \n",
       "2                  Yma Sumac         Mambo! (World)  1954   \n",
       "3               Vivian Girls  Everything Goes Wrong  2009   \n",
       "4     Mícheál Ó Súilleabháin         Casadh/Turning     0   \n",
       "\n",
       "                                       user  play_count  \n",
       "0  3ff7a31452eeabd7a4e07f0d243c674e3d0adf46           5  \n",
       "1  be0db87ab60e3a2de60354f34d9e37341b65eb1e           1  \n",
       "2  e8ebf671cf99a8dc0b2301a36d3207004777c636           2  \n",
       "3  4aaa6038242f092a33b49558f59a94f0f47b6c5c           2  \n",
       "4  0aae3885afd9ec62df38635031d1e00cf7c091db           1  "
      ]
     },
     "execution_count": 24,
     "metadata": {},
     "output_type": "execute_result"
    }
   ],
   "source": [
    "print(len(song_df))\n",
    "print(song_df.duplicated().sum())\n",
    "song_df = song_df.groupby(['song', 'title', 'artist_name', 'release', 'year', 'user'], observed=True)['play_count'].sum().reset_index()\n",
    "print(len(song_df))\n",
    "print(song_df.duplicated().sum())\n",
    "song_df.head()"
   ]
  },
  {
   "cell_type": "code",
   "execution_count": 25,
   "metadata": {},
   "outputs": [],
   "source": [
    "from sklearn.preprocessing import MinMaxScaler, StandardScaler\n",
    "# Logarithmic normalisation, dealing with extreme values"
   ]
  },
  {
   "cell_type": "code",
   "execution_count": 26,
   "metadata": {},
   "outputs": [
    {
     "data": {
      "text/html": [
       "<div>\n",
       "<style scoped>\n",
       "    .dataframe tbody tr th:only-of-type {\n",
       "        vertical-align: middle;\n",
       "    }\n",
       "\n",
       "    .dataframe tbody tr th {\n",
       "        vertical-align: top;\n",
       "    }\n",
       "\n",
       "    .dataframe thead th {\n",
       "        text-align: right;\n",
       "    }\n",
       "</style>\n",
       "<table border=\"1\" class=\"dataframe\">\n",
       "  <thead>\n",
       "    <tr style=\"text-align: right;\">\n",
       "      <th></th>\n",
       "      <th>year</th>\n",
       "      <th>play_count</th>\n",
       "    </tr>\n",
       "  </thead>\n",
       "  <tbody>\n",
       "    <tr>\n",
       "      <th>count</th>\n",
       "      <td>101572.000000</td>\n",
       "      <td>101572.000000</td>\n",
       "    </tr>\n",
       "    <tr>\n",
       "      <th>mean</th>\n",
       "      <td>1622.121618</td>\n",
       "      <td>2.915764</td>\n",
       "    </tr>\n",
       "    <tr>\n",
       "      <th>std</th>\n",
       "      <td>783.703332</td>\n",
       "      <td>8.628572</td>\n",
       "    </tr>\n",
       "    <tr>\n",
       "      <th>min</th>\n",
       "      <td>0.000000</td>\n",
       "      <td>1.000000</td>\n",
       "    </tr>\n",
       "    <tr>\n",
       "      <th>25%</th>\n",
       "      <td>1984.000000</td>\n",
       "      <td>1.000000</td>\n",
       "    </tr>\n",
       "    <tr>\n",
       "      <th>50%</th>\n",
       "      <td>2002.000000</td>\n",
       "      <td>1.000000</td>\n",
       "    </tr>\n",
       "    <tr>\n",
       "      <th>75%</th>\n",
       "      <td>2007.000000</td>\n",
       "      <td>3.000000</td>\n",
       "    </tr>\n",
       "    <tr>\n",
       "      <th>max</th>\n",
       "      <td>2010.000000</td>\n",
       "      <td>1890.000000</td>\n",
       "    </tr>\n",
       "  </tbody>\n",
       "</table>\n",
       "</div>"
      ],
      "text/plain": [
       "                year     play_count\n",
       "count  101572.000000  101572.000000\n",
       "mean     1622.121618       2.915764\n",
       "std       783.703332       8.628572\n",
       "min         0.000000       1.000000\n",
       "25%      1984.000000       1.000000\n",
       "50%      2002.000000       1.000000\n",
       "75%      2007.000000       3.000000\n",
       "max      2010.000000    1890.000000"
      ]
     },
     "execution_count": 26,
     "metadata": {},
     "output_type": "execute_result"
    }
   ],
   "source": [
    "song_df.describe()"
   ]
  },
  {
   "cell_type": "markdown",
   "metadata": {},
   "source": [
    "\n",
    "# Model selection:\n",
    "\n",
    "Traditional music recommendation, is based on the similarity of users or items for recommendation, representative algorithms are collaborative filtering, or SVD, KNN, etc.\n",
    "\n",
    "For some complex patterns, such as the small percentage of users clustered above. It is common to take a hybrid recommendation approach that combine the advantages of multiple recommendation methods to generate more accurate and diverse recommendations.\n",
    "\n",
    "Compared to the above methods, deep models have been found to be more advantageous in capturing implicit and nonlinear relationships. Deep neural networks are able to learn complex non-linear relationships and better capture the implicit interaction patterns between users and objects."
   ]
  },
  {
   "cell_type": "markdown",
   "metadata": {},
   "source": [
    "The problem faced, cold starts due to data sparsity. That is, how to solve it when faced with too little referenceable data."
   ]
  },
  {
   "cell_type": "markdown",
   "metadata": {},
   "source": [
    "In addition to the reasons above, we often encounter cold start, sparse data and other problems in recommender systems. Cold start is when a new user just joins with too little data, and it is difficult to get good recommendations based on playlists directly. The sparseness of the data, which may only account for 10% of all the user interactions with items in the data, leads to a lack of objectivity in the ratings. In this task, play_count as a user rating will result in the main recommendations being focused on very few items, as most items may only have 2 or 3 plays.\n"
   ]
  },
  {
   "cell_type": "markdown",
   "metadata": {},
   "source": [
    "Rule-based Filtering"
   ]
  },
  {
   "cell_type": "markdown",
   "metadata": {},
   "source": [
    "Nowadays, many people try to use GNN for recommendation, and I am also interested in it, so I practice it here, and according to the advantage of GNN is that the user's pattern can be fully recognised, as well as the relationship between the user and the song can be expressed in the model.\n",
    "Based on the analyses in 3.1.3, the number of songs, number of artists, number of albums, and average number of plays can be used as user characteristics.\n",
    "\n",
    "Unfortunately, GNN can't solve the cold start problem and is too computationally intensive I failed, it may perform well on the static song_datatsets dataset, and there are other ways to solve the sparsity problem, but it can't solve the two problems at the beginning, collaborative filtering is too simple, let's implement wide and deep\n",
    "\n",
    "Wide & Deep Learning is a recommender system model that combines the strengths of Linear Models (Wide) and Deep Neural Networks (Deep), first proposed by Google in 2016 for use in the Google Play app shop recommender system. Its goal is to both remember (Memorization) historical rules and generalise (Generalization) to new users or items to achieve efficient recommendations."
   ]
  },
  {
   "cell_type": "code",
   "execution_count": 27,
   "metadata": {},
   "outputs": [
    {
     "name": "stdout",
     "output_type": "stream",
     "text": [
      "Using device: cuda\n"
     ]
    },
    {
     "name": "stderr",
     "output_type": "stream",
     "text": [
      "\n",
      "A module that was compiled using NumPy 1.x cannot be run in\n",
      "NumPy 2.0.2 as it may crash. To support both 1.x and 2.x\n",
      "versions of NumPy, modules must be compiled with NumPy 2.0.\n",
      "Some module may need to rebuild instead e.g. with 'pybind11>=2.12'.\n",
      "\n",
      "If you are a user of the module, the easiest solution will be to\n",
      "downgrade to 'numpy<2' or try to upgrade the affected module.\n",
      "We expect that some modules will need time to support NumPy 2.\n",
      "\n",
      "Traceback (most recent call last):  File \"<frozen runpy>\", line 198, in _run_module_as_main\n",
      "  File \"<frozen runpy>\", line 88, in _run_code\n",
      "  File \"c:\\Users\\20680\\AppData\\Local\\Programs\\Python\\Python312\\Lib\\site-packages\\ipykernel_launcher.py\", line 18, in <module>\n",
      "    app.launch_new_instance()\n",
      "  File \"c:\\Users\\20680\\AppData\\Local\\Programs\\Python\\Python312\\Lib\\site-packages\\traitlets\\config\\application.py\", line 1075, in launch_instance\n",
      "    app.start()\n",
      "  File \"c:\\Users\\20680\\AppData\\Local\\Programs\\Python\\Python312\\Lib\\site-packages\\ipykernel\\kernelapp.py\", line 739, in start\n",
      "    self.io_loop.start()\n",
      "  File \"c:\\Users\\20680\\AppData\\Local\\Programs\\Python\\Python312\\Lib\\site-packages\\tornado\\platform\\asyncio.py\", line 205, in start\n",
      "    self.asyncio_loop.run_forever()\n",
      "  File \"c:\\Users\\20680\\AppData\\Local\\Programs\\Python\\Python312\\Lib\\asyncio\\base_events.py\", line 641, in run_forever\n",
      "    self._run_once()\n",
      "  File \"c:\\Users\\20680\\AppData\\Local\\Programs\\Python\\Python312\\Lib\\asyncio\\base_events.py\", line 1987, in _run_once\n",
      "    handle._run()\n",
      "  File \"c:\\Users\\20680\\AppData\\Local\\Programs\\Python\\Python312\\Lib\\asyncio\\events.py\", line 88, in _run\n",
      "    self._context.run(self._callback, *self._args)\n",
      "  File \"c:\\Users\\20680\\AppData\\Local\\Programs\\Python\\Python312\\Lib\\site-packages\\ipykernel\\kernelbase.py\", line 545, in dispatch_queue\n",
      "    await self.process_one()\n",
      "  File \"c:\\Users\\20680\\AppData\\Local\\Programs\\Python\\Python312\\Lib\\site-packages\\ipykernel\\kernelbase.py\", line 534, in process_one\n",
      "    await dispatch(*args)\n",
      "  File \"c:\\Users\\20680\\AppData\\Local\\Programs\\Python\\Python312\\Lib\\site-packages\\ipykernel\\kernelbase.py\", line 437, in dispatch_shell\n",
      "    await result\n",
      "  File \"c:\\Users\\20680\\AppData\\Local\\Programs\\Python\\Python312\\Lib\\site-packages\\ipykernel\\ipkernel.py\", line 362, in execute_request\n",
      "    await super().execute_request(stream, ident, parent)\n",
      "  File \"c:\\Users\\20680\\AppData\\Local\\Programs\\Python\\Python312\\Lib\\site-packages\\ipykernel\\kernelbase.py\", line 778, in execute_request\n",
      "    reply_content = await reply_content\n",
      "  File \"c:\\Users\\20680\\AppData\\Local\\Programs\\Python\\Python312\\Lib\\site-packages\\ipykernel\\ipkernel.py\", line 449, in do_execute\n",
      "    res = shell.run_cell(\n",
      "  File \"c:\\Users\\20680\\AppData\\Local\\Programs\\Python\\Python312\\Lib\\site-packages\\ipykernel\\zmqshell.py\", line 549, in run_cell\n",
      "    return super().run_cell(*args, **kwargs)\n",
      "  File \"c:\\Users\\20680\\AppData\\Local\\Programs\\Python\\Python312\\Lib\\site-packages\\IPython\\core\\interactiveshell.py\", line 3075, in run_cell\n",
      "    result = self._run_cell(\n",
      "  File \"c:\\Users\\20680\\AppData\\Local\\Programs\\Python\\Python312\\Lib\\site-packages\\IPython\\core\\interactiveshell.py\", line 3130, in _run_cell\n",
      "    result = runner(coro)\n",
      "  File \"c:\\Users\\20680\\AppData\\Local\\Programs\\Python\\Python312\\Lib\\site-packages\\IPython\\core\\async_helpers.py\", line 129, in _pseudo_sync_runner\n",
      "    coro.send(None)\n",
      "  File \"c:\\Users\\20680\\AppData\\Local\\Programs\\Python\\Python312\\Lib\\site-packages\\IPython\\core\\interactiveshell.py\", line 3334, in run_cell_async\n",
      "    has_raised = await self.run_ast_nodes(code_ast.body, cell_name,\n",
      "  File \"c:\\Users\\20680\\AppData\\Local\\Programs\\Python\\Python312\\Lib\\site-packages\\IPython\\core\\interactiveshell.py\", line 3517, in run_ast_nodes\n",
      "    if await self.run_code(code, result, async_=asy):\n",
      "  File \"c:\\Users\\20680\\AppData\\Local\\Programs\\Python\\Python312\\Lib\\site-packages\\IPython\\core\\interactiveshell.py\", line 3577, in run_code\n",
      "    exec(code_obj, self.user_global_ns, self.user_ns)\n",
      "  File \"C:\\Users\\20680\\AppData\\Local\\Temp\\ipykernel_100892\\485448922.py\", line 8, in <module>\n",
      "    device = torch.device('cuda' if torch.cuda.is_available() else 'cpu')\n",
      "C:\\Users\\20680\\AppData\\Local\\Temp\\ipykernel_100892\\485448922.py:8: UserWarning: Failed to initialize NumPy: _ARRAY_API not found (Triggered internally at ..\\torch\\csrc\\utils\\tensor_numpy.cpp:84.)\n",
      "  device = torch.device('cuda' if torch.cuda.is_available() else 'cpu')\n"
     ]
    }
   ],
   "source": [
    "import torch\n",
    "import torch.nn as nn\n",
    "import torch.nn.functional as F\n",
    "import pandas as pd\n",
    "from sklearn.preprocessing import LabelEncoder, StandardScaler\n",
    "from torch.utils.data import Dataset, DataLoader\n",
    "\n",
    "device = torch.device('cuda' if torch.cuda.is_available() else 'cpu')\n",
    "print(f\"Using device: {device}\")\n",
    "\n",
    "class WideAndDeepModel(nn.Module):\n",
    "    def __init__(self, num_users, num_songs, num_artists, num_releases, num_years,\n",
    "                 embedding_dim=64, hidden_layers=[256, 128, 64]):\n",
    "        super().__init__()\n",
    "        \n",
    "        self.wide = nn.Linear(5, 1)\n",
    "        \n",
    "        self.user_embedding = nn.Embedding(num_users, embedding_dim)\n",
    "        self.song_embedding = nn.Embedding(num_songs, embedding_dim)\n",
    "        self.artist_embedding = nn.Embedding(num_artists, embedding_dim)\n",
    "        self.release_embedding = nn.Embedding(num_releases, embedding_dim)\n",
    "        self.year_embedding = nn.Embedding(num_years, embedding_dim)\n",
    "    \n",
    "        deep_input_dim = embedding_dim * 5 + 1  \n",
    "        self.deep_layers = nn.ModuleList()\n",
    "        prev_dim = deep_input_dim\n",
    "        \n",
    "        for hidden_dim in hidden_layers:\n",
    "            self.deep_layers.append(nn.Linear(prev_dim, hidden_dim))\n",
    "            self.deep_layers.append(nn.ReLU())\n",
    "            self.deep_layers.append(nn.BatchNorm1d(hidden_dim))\n",
    "            self.deep_layers.append(nn.Dropout(0.2))\n",
    "            prev_dim = hidden_dim\n",
    "        \n",
    "        self.final = nn.Linear(hidden_layers[-1] + 1, 1)\n",
    "        \n",
    "    def forward(self, wide_features, user_ids, song_ids, artist_ids, \n",
    "                release_ids, year_ids, play_count):\n",
    "        wide_out = self.wide(wide_features.float())\n",
    "        \n",
    "        user_emb = self.user_embedding(user_ids)\n",
    "        song_emb = self.song_embedding(song_ids)\n",
    "        artist_emb = self.artist_embedding(artist_ids)\n",
    "        release_emb = self.release_embedding(release_ids)\n",
    "        year_emb = self.year_embedding(year_ids)\n",
    "        \n",
    "        deep_input = torch.cat([\n",
    "            user_emb, song_emb, artist_emb, release_emb, year_emb,\n",
    "            play_count.unsqueeze(1)\n",
    "        ], dim=1)\n",
    "        \n",
    "        deep_out = deep_input\n",
    "        for layer in self.deep_layers:\n",
    "            deep_out = layer(deep_out)\n",
    "        \n",
    "        final_input = torch.cat([deep_out, wide_out], dim=1)\n",
    "        output = self.final(final_input)\n",
    "        return output\n",
    "\n",
    "class MusicDataset(Dataset):\n",
    "    def __init__(self, df, is_training=True):\n",
    "        self.is_training = is_training\n",
    "        \n",
    "        self.user_ids = torch.tensor(df['user_idx'].values, dtype=torch.long)\n",
    "        self.song_ids = torch.tensor(df['song_idx'].values, dtype=torch.long)\n",
    "        self.artist_ids = torch.tensor(df['artist_idx'].values, dtype=torch.long)\n",
    "        self.release_ids = torch.tensor(df['release_idx'].values, dtype=torch.long)\n",
    "        self.year_ids = torch.tensor(df['year_idx'].values, dtype=torch.long)\n",
    "        \n",
    "        self.wide_features = torch.tensor(\n",
    "            df[['user_idx', 'song_idx', 'artist_idx', 'release_idx', 'year_idx']].values,\n",
    "            dtype=torch.float\n",
    "        )\n",
    "        \n",
    "        self.play_count = torch.tensor(df['play_count_log'].values, dtype=torch.float)\n",
    "        \n",
    "        if is_training:\n",
    "            self.labels = torch.tensor(df['play_count_log'].values, dtype=torch.float)\n",
    "            \n",
    "    def __len__(self):\n",
    "        return len(self.user_ids)\n",
    "    \n",
    "    def __getitem__(self, idx):\n",
    "        if self.is_training:\n",
    "            return {\n",
    "                'wide_features': self.wide_features[idx],\n",
    "                'user_ids': self.user_ids[idx],\n",
    "                'song_ids': self.song_ids[idx],\n",
    "                'artist_ids': self.artist_ids[idx],\n",
    "                'release_ids': self.release_ids[idx],\n",
    "                'year_ids': self.year_ids[idx],\n",
    "                'play_count': self.play_count[idx],\n",
    "                'labels': self.labels[idx]\n",
    "            }\n",
    "        else:\n",
    "            return {\n",
    "                'wide_features': self.wide_features[idx],\n",
    "                'user_ids': self.user_ids[idx],\n",
    "                'song_ids': self.song_ids[idx],\n",
    "                'artist_ids': self.artist_ids[idx],\n",
    "                'release_ids': self.release_ids[idx],\n",
    "                'year_ids': self.year_ids[idx],\n",
    "                'play_count': self.play_count[idx]\n",
    "            }\n",
    "\n",
    "def preprocess_data(song_df):\n",
    "    le_user = LabelEncoder()\n",
    "    le_song = LabelEncoder()\n",
    "    le_artist = LabelEncoder()\n",
    "    le_release = LabelEncoder()\n",
    "    le_year = LabelEncoder()\n",
    "    \n",
    "    song_df['user_idx'] = le_user.fit_transform(song_df['user'])\n",
    "    song_df['song_idx'] = le_song.fit_transform(song_df['song'])\n",
    "    song_df['artist_idx'] = le_artist.fit_transform(song_df['artist_name'])\n",
    "    song_df['release_idx'] = le_release.fit_transform(song_df['release'])\n",
    "    song_df['year_idx'] = le_year.fit_transform(song_df['year'])\n",
    "    \n",
    "    song_df['play_count_log'] = np.log1p(song_df['play_count'])  # log1p = log(1+x)\n",
    "    \n",
    "    return song_df, le_user, le_song, le_artist, le_release, le_year\n",
    "\n",
    "def train_model(model, train_loader, val_loader, optimizer, \n",
    "                patience=5, epochs=100, min_delta=1e-4):\n",
    "    best_val_loss = float('inf')\n",
    "    patience_counter = 0\n",
    "    best_model_state = None\n",
    "    \n",
    "    for epoch in range(epochs):\n",
    "        model.train()\n",
    "        train_loss = 0\n",
    "        for batch in train_loader:\n",
    "            optimizer.zero_grad()\n",
    "            \n",
    "            outputs = model(\n",
    "                batch['wide_features'].to(device),\n",
    "                batch['user_ids'].to(device),\n",
    "                batch['song_ids'].to(device),\n",
    "                batch['artist_ids'].to(device),\n",
    "                batch['release_ids'].to(device),\n",
    "                batch['year_ids'].to(device),\n",
    "                batch['play_count'].to(device)\n",
    "            )\n",
    "            \n",
    "            loss = F.mse_loss(outputs.squeeze(), batch['labels'].to(device))\n",
    "            loss.backward()\n",
    "            optimizer.step()\n",
    "            \n",
    "            train_loss += loss.item()\n",
    "        \n",
    "        model.eval()\n",
    "        val_loss = 0\n",
    "        with torch.no_grad():\n",
    "            for batch in val_loader:\n",
    "                outputs = model(\n",
    "                    batch['wide_features'].to(device),\n",
    "                    batch['user_ids'].to(device),\n",
    "                    batch['song_ids'].to(device),\n",
    "                    batch['artist_ids'].to(device),\n",
    "                    batch['release_ids'].to(device),\n",
    "                    batch['year_ids'].to(device),\n",
    "                    batch['play_count'].to(device)\n",
    "                )\n",
    "                loss = F.mse_loss(outputs.squeeze(), batch['labels'].to(device))\n",
    "                val_loss += loss.item()\n",
    "        \n",
    "        train_loss /= len(train_loader)\n",
    "        val_loss /= len(val_loader)\n",
    "        \n",
    "        print(f'Epoch {epoch+1}/{epochs}:')\n",
    "        print(f'Training Loss: {train_loss:.4f}')\n",
    "        print(f'Validation Loss: {val_loss:.4f}')\n",
    "        \n",
    "        if val_loss < best_val_loss - min_delta:\n",
    "            best_val_loss = val_loss\n",
    "            patience_counter = 0\n",
    "            best_model_state = model.state_dict()\n",
    "        else:\n",
    "            patience_counter += 1\n",
    "            \n",
    "        if patience_counter >= patience:\n",
    "            print(f'Early stopping triggered after {epoch + 1} epochs')\n",
    "            model.load_state_dict(best_model_state)\n",
    "            break\n",
    "    \n",
    "    return model\n",
    "\n",
    "\n",
    "def get_user_recommendations(model, user_id, song_df, listened_songs, top_k=5):\n",
    "    \"\"\"\n",
    "    Generate song recommendations for a user\n",
    "    \n",
    "    Args:\n",
    "        model: Trained model\n",
    "        user_id: Target user ID\n",
    "        song_df: Song dataset\n",
    "        listened_songs: List of songs already listened to by the user\n",
    "        top_k: Number of recommendations to generate\n",
    "        \n",
    "    Returns:\n",
    "        recommended_songs: List of recommended song IDs\n",
    "        scores: List of recommendation scores\n",
    "    \"\"\"\n",
    "    model.eval()\n",
    "    with torch.no_grad():\n",
    "        # Get unlistened songs\n",
    "        available_songs = song_df[~song_df['song'].isin(listened_songs)]\n",
    "        if available_songs.empty:\n",
    "            return [], []\n",
    "            \n",
    "        # Get unique song information\n",
    "        unique_songs = available_songs[['song_idx', 'song', 'artist_idx', 'release_idx', 'year_idx']].drop_duplicates('song_idx')\n",
    "        unique_songs = unique_songs.sort_values('song_idx').reset_index(drop=True)\n",
    "        num_songs = len(unique_songs)\n",
    "        \n",
    "        # Prepare features\n",
    "        user_ids = torch.full((num_songs,), user_id, dtype=torch.long, device=device)\n",
    "        song_ids = torch.tensor(unique_songs['song_idx'].values, dtype=torch.long, device=device)\n",
    "        artist_ids = torch.tensor(unique_songs['artist_idx'].values, dtype=torch.long, device=device)\n",
    "        release_ids = torch.tensor(unique_songs['release_idx'].values, dtype=torch.long, device=device)\n",
    "        year_ids = torch.tensor(unique_songs['year_idx'].values, dtype=torch.long, device=device)\n",
    "        \n",
    "        # Batch processing\n",
    "        batch_size = 1024\n",
    "        all_scores = []\n",
    "        \n",
    "        for i in range(0, num_songs, batch_size):\n",
    "            batch_end = min(i + batch_size, num_songs)\n",
    "            batch_slice = slice(i, batch_end)\n",
    "            \n",
    "            # Wide features\n",
    "            wide_features = torch.cat([\n",
    "                user_ids[batch_slice].float().unsqueeze(1),\n",
    "                song_ids[batch_slice].float().unsqueeze(1),\n",
    "                artist_ids[batch_slice].float().unsqueeze(1),\n",
    "                release_ids[batch_slice].float().unsqueeze(1),\n",
    "                year_ids[batch_slice].float().unsqueeze(1)\n",
    "            ], dim=1)\n",
    "            \n",
    "            play_count = torch.zeros(batch_end - i, device=device)\n",
    "            \n",
    "            # Get predictions\n",
    "            scores = model(\n",
    "                wide_features,\n",
    "                user_ids[batch_slice],\n",
    "                song_ids[batch_slice],\n",
    "                artist_ids[batch_slice],\n",
    "                release_ids[batch_slice],\n",
    "                year_ids[batch_slice],\n",
    "                play_count\n",
    "            )\n",
    "            all_scores.append(scores)\n",
    "        \n",
    "        # Combine all batch scores\n",
    "        scores = torch.cat(all_scores, dim=0).squeeze()\n",
    "        \n",
    "        # Get top-k recommendations\n",
    "        top_k_scores, top_k_indices = torch.topk(scores, k=min(top_k, len(scores)))\n",
    "        \n",
    "        # Get original song IDs\n",
    "        recommended_songs = unique_songs.iloc[top_k_indices.cpu().tolist()]['song'].values.tolist()\n",
    "        scores_list = top_k_scores.cpu().tolist()\n",
    "        \n",
    "        return recommended_songs, scores_list\n",
    "\n",
    "    "
   ]
  },
  {
   "cell_type": "code",
   "execution_count": 28,
   "metadata": {},
   "outputs": [],
   "source": [
    "import pickle"
   ]
  },
  {
   "cell_type": "code",
   "execution_count": 29,
   "metadata": {},
   "outputs": [
    {
     "name": "stdout",
     "output_type": "stream",
     "text": [
      "Loading data...\n",
      "Preprocessing data...\n",
      "Splitting data...\n",
      "Training set size: 81299\n",
      "Validation set size: 21328\n",
      "Initializing model...\n",
      "Training model...\n",
      "Epoch 1/100:\n",
      "Training Loss: 98.6629\n",
      "Validation Loss: 0.7564\n",
      "Epoch 2/100:\n",
      "Training Loss: 0.6553\n",
      "Validation Loss: 0.4191\n",
      "Epoch 3/100:\n",
      "Training Loss: 0.3427\n",
      "Validation Loss: 0.1153\n",
      "Epoch 4/100:\n",
      "Training Loss: 0.1496\n",
      "Validation Loss: 0.0344\n",
      "Epoch 5/100:\n",
      "Training Loss: 0.1089\n",
      "Validation Loss: 0.0230\n",
      "Epoch 6/100:\n",
      "Training Loss: 0.0892\n",
      "Validation Loss: 0.0162\n",
      "Epoch 7/100:\n",
      "Training Loss: 0.0727\n",
      "Validation Loss: 0.0141\n",
      "Epoch 8/100:\n",
      "Training Loss: 0.0642\n",
      "Validation Loss: 0.0105\n",
      "Epoch 9/100:\n",
      "Training Loss: 0.0587\n",
      "Validation Loss: 0.0109\n",
      "Epoch 10/100:\n",
      "Training Loss: 0.0566\n",
      "Validation Loss: 0.0112\n",
      "Epoch 11/100:\n",
      "Training Loss: 0.0519\n",
      "Validation Loss: 0.0088\n",
      "Epoch 12/100:\n",
      "Training Loss: 0.0487\n",
      "Validation Loss: 0.0075\n",
      "Epoch 13/100:\n",
      "Training Loss: 0.0450\n",
      "Validation Loss: 0.0090\n",
      "Epoch 14/100:\n",
      "Training Loss: 0.0422\n",
      "Validation Loss: 0.0050\n",
      "Epoch 15/100:\n",
      "Training Loss: 0.0388\n",
      "Validation Loss: 0.0110\n",
      "Epoch 16/100:\n",
      "Training Loss: 0.0378\n",
      "Validation Loss: 0.0047\n",
      "Epoch 17/100:\n",
      "Training Loss: 0.0371\n",
      "Validation Loss: 0.0035\n",
      "Epoch 18/100:\n",
      "Training Loss: 0.0332\n",
      "Validation Loss: 0.0028\n",
      "Epoch 19/100:\n",
      "Training Loss: 0.0315\n",
      "Validation Loss: 0.0213\n",
      "Epoch 20/100:\n",
      "Training Loss: 0.0335\n",
      "Validation Loss: 0.0119\n",
      "Epoch 21/100:\n",
      "Training Loss: 0.0291\n",
      "Validation Loss: 0.0286\n",
      "Epoch 22/100:\n",
      "Training Loss: 0.0361\n",
      "Validation Loss: 0.0197\n",
      "Epoch 23/100:\n",
      "Training Loss: 0.0392\n",
      "Validation Loss: 0.0152\n",
      "Early stopping triggered after 23 epochs\n",
      "Saving model...\n",
      "Saving label encoders...\n",
      "\n",
      "Testing recommendations...\n",
      "\n",
      "Recommendations for user 0007c0e74728ca9ef0fe4eb7f75732e8026a278b:\n",
      "Song: Deeper And Deeper (2003 Digital Remaster) - Vinnie Vincent Invasion, Score: 0.6677\n",
      "Song: Remix - Victor Manuelle, Score: 0.6645\n",
      "Song: Wait For The Summer - Yeasayer, Score: 0.6585\n",
      "Song: Velvet Dreams - The Genitorturers, Score: 0.6572\n",
      "Song: Night And Day - The Maytals, Score: 0.6557\n"
     ]
    }
   ],
   "source": [
    "def split_data_by_user(song_df, train_ratio=0.8):\n",
    "    users = song_df['user_idx'].unique()\n",
    "    train_data = []\n",
    "    val_data = []\n",
    "    \n",
    "    for user in users:\n",
    "        user_data = song_df[song_df['user_idx'] == user]\n",
    "        n_items = len(user_data)\n",
    "        \n",
    "        n_train = max(int(n_items * train_ratio), 1)\n",
    "        n_train = min(n_train, n_items - 1) \n",
    "        \n",
    "        user_data = user_data.sample(frac=1, random_state=42)\n",
    "        \n",
    "        train_data.append(user_data.iloc[:n_train])\n",
    "        val_data.append(user_data.iloc[n_train:])\n",
    "    \n",
    "    train_df = pd.concat(train_data, ignore_index=True)\n",
    "    val_df = pd.concat(val_data, ignore_index=True)\n",
    "    \n",
    "    return train_df, val_df\n",
    "def main():\n",
    "    \"\"\"Main function to train and test the recommendation system\"\"\"\n",
    "    print(\"Loading data...\")\n",
    "    song_df = pd.read_csv('song_dataset.csv')\n",
    "    \n",
    "    print(\"Preprocessing data...\")\n",
    "    processed_df, le_user, le_song, le_artist, le_release, le_year = preprocess_data(song_df)\n",
    "    \n",
    "    print(\"Splitting data...\")\n",
    "    train_df, val_df = split_data_by_user(processed_df, train_ratio=0.8)\n",
    "    \n",
    "    print(f\"Training set size: {len(train_df)}\")\n",
    "    print(f\"Validation set size: {len(val_df)}\")\n",
    "    \n",
    "    train_dataset = MusicDataset(train_df)\n",
    "    val_dataset = MusicDataset(val_df)\n",
    "    \n",
    "    train_loader = DataLoader(train_dataset, batch_size=256, shuffle=True)\n",
    "    val_loader = DataLoader(val_dataset, batch_size=256)\n",
    "    \n",
    "    print(\"Initializing model...\")\n",
    "    model = WideAndDeepModel(\n",
    "        num_users=len(le_user.classes_),\n",
    "        num_songs=len(le_song.classes_),\n",
    "        num_artists=len(le_artist.classes_),\n",
    "        num_releases=len(le_release.classes_),\n",
    "        num_years=len(le_year.classes_)\n",
    "    ).to(device)\n",
    "    \n",
    "    optimizer = torch.optim.Adam(model.parameters(), lr=0.001)\n",
    "    \n",
    "    print(\"Training model...\")\n",
    "    model = train_model(\n",
    "        model=model,\n",
    "        train_loader=train_loader,\n",
    "        val_loader=val_loader,\n",
    "        optimizer=optimizer,\n",
    "        patience=5,\n",
    "        epochs=100,\n",
    "        min_delta=1e-4\n",
    "    )\n",
    "    \n",
    "    print(\"Saving model...\")\n",
    "    torch.save(model.state_dict(), 'music_recommender.pth')\n",
    "    \n",
    "    print(\"Saving label encoders...\")\n",
    "    with open('label_encoders.pkl', 'wb') as f:\n",
    "        pickle.dump((le_user, le_song, le_artist, le_release, le_year), f)\n",
    "    \n",
    "    print(\"\\nTesting recommendations...\")\n",
    "    user_idx = 0\n",
    "    listened_songs = processed_df[processed_df['user_idx'] == user_idx]['song'].unique()\n",
    "    recommended_songs, scores = get_user_recommendations(\n",
    "        model=model,\n",
    "        user_id=user_idx,\n",
    "        song_df=processed_df,\n",
    "        listened_songs=listened_songs,\n",
    "        top_k=5\n",
    "    )\n",
    "    \n",
    "    # Print recommendations\n",
    "    print(f\"\\nRecommendations for user {le_user.inverse_transform([user_idx])[0]}:\")\n",
    "    for song_id, score in zip(recommended_songs, scores):\n",
    "        song_info = song_df[song_df['song'] == song_id].iloc[0]\n",
    "        print(f\"Song: {song_info['title']} - {song_info['artist_name']}, Score: {score:.4f}\")\n",
    "\n",
    "if __name__ == \"__main__\":\n",
    "    main()"
   ]
  },
  {
   "cell_type": "markdown",
   "metadata": {},
   "source": [
    "# 3.3 deployments"
   ]
  },
  {
   "cell_type": "markdown",
   "metadata": {},
   "source": [
    "The following is just part of the code that is deployed on streamlit. The url is xxxxxxxxx."
   ]
  },
  {
   "cell_type": "code",
   "execution_count": null,
   "metadata": {},
   "outputs": [],
   "source": [
    "import streamlit as st\n",
    "import torch\n",
    "import pandas as pd\n",
    "from model import WideAndDeepModel \n",
    "import pickle\n",
    "from model import get_user_recommendations\n",
    "\n",
    "# Fix file paths\n",
    "MODEL_PATH = \"music_recommender.pth\"\n",
    "DATA_PATH = \"song_dataset.csv\"\n",
    "ENCODERS_PATH = \"label_encoders.pkl\"\n",
    "@st.cache_resource\n",
    "def load_model_and_data():\n",
    "    try:\n",
    "        song_df = pd.read_csv(DATA_PATH)\n",
    "        \n",
    "        with open(ENCODERS_PATH, 'rb') as f:\n",
    "            le_dict = pickle.load(f)\n",
    "            \n",
    "        song_df['user_idx'] = le_dict[0].transform(song_df['user'])\n",
    "        song_df['song_idx'] = le_dict[1].transform(song_df['song'])\n",
    "        song_df['artist_idx'] = le_dict[2].transform(song_df['artist_name'])\n",
    "        song_df['release_idx'] = le_dict[3].transform(song_df['release'])\n",
    "        song_df['year_idx'] = le_dict[4].transform(song_df['year'].astype(str))\n",
    "        \n",
    "        model = WideAndDeepModel(\n",
    "            num_users=len(le_dict[0].classes_),\n",
    "            num_songs=len(le_dict[1].classes_),\n",
    "            num_artists=len(le_dict[2].classes_),\n",
    "            num_releases=len(le_dict[3].classes_),\n",
    "            num_years=len(le_dict[4].classes_)\n",
    "        )\n",
    "        model.load_state_dict(torch.load(MODEL_PATH, map_location='cpu'))\n",
    "        model.eval()\n",
    "        \n",
    "        return model, song_df, le_dict\n",
    "        \n",
    "    except Exception as e:\n",
    "        st.error(f\"error: {str(e)}\")\n",
    "        return None, None, None\n",
    "\n",
    "def get_user_recommendations(model, user_id, song_df, listened_songs, top_k=5):\n",
    "    model.eval()\n",
    "    with torch.no_grad():\n",
    "        # Get unlistened songs\n",
    "        available_songs = song_df[~song_df['song'].isin(listened_songs)]\n",
    "        if available_songs.empty:\n",
    "            return [], []\n",
    "            \n",
    "        # Get unique song information\n",
    "        unique_songs = available_songs[['song_idx', 'song', 'artist_idx', 'release_idx', 'year_idx']].drop_duplicates('song_idx')\n",
    "        unique_songs = unique_songs.sort_values('song_idx').reset_index(drop=True)\n",
    "        num_songs = len(unique_songs)\n",
    "        \n",
    "        # Prepare features\n",
    "        user_ids = torch.full((num_songs,), user_id, dtype=torch.long)\n",
    "        song_ids = torch.tensor(unique_songs['song_idx'].values, dtype=torch.long)\n",
    "        artist_ids = torch.tensor(unique_songs['artist_idx'].values, dtype=torch.long)\n",
    "        release_ids = torch.tensor(unique_songs['release_idx'].values, dtype=torch.long)\n",
    "        year_ids = torch.tensor(unique_songs['year_idx'].values, dtype=torch.long)\n",
    "        \n",
    "        # Batch processing\n",
    "        batch_size = 1024\n",
    "        all_scores = []\n",
    "        \n",
    "        for i in range(0, num_songs, batch_size):\n",
    "            batch_end = min(i + batch_size, num_songs)\n",
    "            batch_slice = slice(i, batch_end)\n",
    "            \n",
    "            # Wide features\n",
    "            wide_features = torch.stack([\n",
    "                user_ids[batch_slice].float(),\n",
    "                song_ids[batch_slice].float(),\n",
    "                artist_ids[batch_slice].float(),\n",
    "                release_ids[batch_slice].float(),\n",
    "                year_ids[batch_slice].float()\n",
    "            ], dim=1)\n",
    "            \n",
    "            play_count = torch.zeros(batch_end - i)\n",
    "            \n",
    "            # Get predictions\n",
    "            scores = model(\n",
    "                wide_features,\n",
    "                user_ids[batch_slice],\n",
    "                song_ids[batch_slice],\n",
    "                artist_ids[batch_slice],\n",
    "                release_ids[batch_slice],\n",
    "                year_ids[batch_slice],\n",
    "                play_count\n",
    "            )\n",
    "            all_scores.append(scores)\n",
    "        \n",
    "        # Combine all batch scores\n",
    "        scores = torch.cat(all_scores, dim=0).squeeze()\n",
    "        \n",
    "        # Get top-k recommendations\n",
    "        top_k_scores, top_k_indices = torch.topk(scores, k=min(top_k, len(scores)))\n",
    "        \n",
    "        # Get original song IDs and convert indices to list\n",
    "        indices = top_k_indices.cpu().tolist()\n",
    "        recommended_songs = unique_songs.iloc[indices]['song'].values.tolist()\n",
    "        scores_list = top_k_scores.cpu().tolist()\n",
    "        \n",
    "        return recommended_songs, scores_list\n",
    "def main():\n",
    "    st.title(\"🎵 Music Recommendation System\")\n",
    "    \n",
    "    # Load data and model\n",
    "    model, song_df, le_dict = load_model_and_data()\n",
    "    \n",
    "    if model is None or song_df is None or le_dict is None:\n",
    "        st.error(\"System initialization failed. Please ensure all required files exist.\")\n",
    "        st.stop()\n",
    "    \n",
    "    # Create song selector\n",
    "    unique_songs = song_df[['title', 'artist_name']].drop_duplicates()\n",
    "    song_options = [f\"{row['title']} - {row['artist_name']}\" \n",
    "                   for _, row in unique_songs.iterrows()]\n",
    "    \n",
    "    selected_songs = st.multiselect(\n",
    "        \"Select songs you've listened to:\",\n",
    "        options=song_options,\n",
    "        max_selections=10\n",
    "    )\n",
    "    \n",
    "    if st.button(\"Get Recommendations\"):\n",
    "        if selected_songs:\n",
    "            with st.spinner(\"Generating recommendations...\"):\n",
    "                # Get song_ids for selected songs\n",
    "                listened_songs = []\n",
    "                for song in selected_songs:\n",
    "                    title = song.split(\" - \")[0]\n",
    "                    artist = song.split(\" - \")[1]\n",
    "                    song_id = song_df[(song_df['title'] == title) & \n",
    "                                    (song_df['artist_name'] == artist)]['song'].iloc[0]\n",
    "                    listened_songs.append(song_id)\n",
    "                \n",
    "                # Generate recommendations using the model\n",
    "                recommended_songs, scores = get_user_recommendations(\n",
    "                    model, \n",
    "                    user_id=0,  # Default ID for new users\n",
    "                    song_df=song_df,\n",
    "                    listened_songs=listened_songs,\n",
    "                    top_k=5  # Recommend 5 songs\n",
    "                )\n",
    "                \n",
    "                st.success(\"Recommendations generated!\")\n",
    "                \n",
    "                # Display recommendations\n",
    "                st.subheader(\"Recommended Songs:\")\n",
    "                for song_id, score in zip(recommended_songs, scores):\n",
    "                    song_info = song_df[song_df['song'] == song_id].iloc[0]\n",
    "                    with st.expander(f\"🎵 {song_info['title']} - {song_info['artist_name']}\"):\n",
    "                        col1, col2 = st.columns(2)\n",
    "                        with col1:\n",
    "                            st.write(f\"Artist: {song_info['artist_name']}\")\n",
    "                            st.write(f\"Album: {song_info['release']}\")\n",
    "                        with col2:\n",
    "                            st.write(f\"Year: {song_info['year']}\")\n",
    "                            st.write(f\"Match Score: {score:.2f}\")\n",
    "        else:\n",
    "            st.warning(\"Please select at least one song!\")\n",
    "    \n",
    "    st.markdown(\"---\")\n",
    "    st.markdown(\n",
    "        \"\"\"\n",
    "        <div style='text-align: center'>\n",
    "            <p>Music Recommendation System | Based on Wide & Deep Model</p>\n",
    "        </div>\n",
    "        \"\"\",\n",
    "        unsafe_allow_html=True\n",
    "    )\n",
    "\n",
    "if __name__ == \"__main__\":\n",
    "    main()\n",
    "\n"
   ]
  }
 ],
 "metadata": {
  "kernelspec": {
   "display_name": "Python 3",
   "language": "python",
   "name": "python3"
  },
  "language_info": {
   "codemirror_mode": {
    "name": "ipython",
    "version": 3
   },
   "file_extension": ".py",
   "mimetype": "text/x-python",
   "name": "python",
   "nbconvert_exporter": "python",
   "pygments_lexer": "ipython3",
   "version": "3.12.4"
  }
 },
 "nbformat": 4,
 "nbformat_minor": 2
}

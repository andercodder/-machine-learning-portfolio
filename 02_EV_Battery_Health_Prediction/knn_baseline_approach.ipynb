{
 "nbformat": 4,
 "nbformat_minor": 0,
 "metadata": {
  "colab": {
   "provenance": []
  },
  "kernelspec": {
   "name": "python3",
   "display_name": "Python 3"
  },
  "language_info": {
   "name": "python"
  }
 },
 "cells": [
  {
   "cell_type": "code",
   "execution_count": null,
   "metadata": {
    "id": "Pfoy8gF1X6kR"
   },
   "outputs": [],
   "source": [
    "# Import Python Libraries"
   ]
  },
  {
   "cell_type": "code",
   "source": [
    "import numpy as np\n",
    "import pandas as pd\n",
    "from sklearn.neighbors import KNeighborsClassifier\n",
    "import matplotlib.pyplot as plt\n",
    "from imblearn.over_sampling import SMOTE\n",
    "from sklearn.metrics import accuracy_score, precision_score, recall_score, f1_score, confusion_matrix, classification_report\n",
    "from sklearn.metrics import roc_auc_score, roc_curve # Importing necessary functions\n",
    "from google.colab import drive\n",
    "drive.mount('/content/drive')"
   ],
   "metadata": {
    "colab": {
     "base_uri": "https://localhost:8080/"
    },
    "id": "B-u1ISxSYH4c",
    "outputId": "4e287203-29a7-4863-e0aa-1a850e0d81b8"
   },
   "execution_count": null,
   "outputs": []
  },
  {
   "cell_type": "markdown",
   "source": [
    "# Data Loading:\n"
   ],
   "metadata": {
    "id": "I8Bi9U7UX-lV"
   }
  },
  {
   "cell_type": "code",
   "source": [
    "# Load training and testing datasets\n",
    "train_data_EV = pd.read_csv('/content/drive/MyDrive/Test.csv')\n",
    "test_data_EV = pd.read_csv('/content/drive/MyDrive/Train.csv')\n",
    "\n",
    "# Inspect the data\n",
    "display(train_data_EV)"
   ],
   "metadata": {
    "colab": {
     "base_uri": "https://localhost:8080/",
     "height": 424
    },
    "id": "mMuYPa3tYWbf",
    "outputId": "c56b5be4-5e19-4d7b-e2d5-7437f0b5ac1e"
   },
   "execution_count": null,
   "outputs": []
  },
  {
   "cell_type": "markdown",
   "source": [
    "# Get Statistical wrap up"
   ],
   "metadata": {
    "id": "LsF1qjQ9YyU0"
   }
  },
  {
   "cell_type": "code",
   "source": [
    "train_data_EV.describe()"
   ],
   "metadata": {
    "colab": {
     "base_uri": "https://localhost:8080/",
     "height": 300
    },
    "id": "4bv7siiaYYMY",
    "outputId": "aab72842-d9e6-4357-f7a8-6d3c813a8b08"
   },
   "execution_count": null,
   "outputs": []
  },
  {
   "cell_type": "markdown",
   "source": [
    "# Separating our Feature and Target"
   ],
   "metadata": {
    "id": "WP0HQr88Y_mo"
   }
  },
  {
   "cell_type": "code",
   "source": [
    "X_train = train_data_EV[['VehicleSpeed_km_h_']]\n",
    "y_train = train_data_EV['Battery_Status']\n",
    "\n",
    "X_test = test_data_EV[['VehicleSpeed_km_h_']]\n",
    "y_test = test_data_EV['Battery_Status']"
   ],
   "metadata": {
    "id": "koU92GZzY50D"
   },
   "execution_count": null,
   "outputs": []
  },
  {
   "cell_type": "markdown",
   "source": [
    "# Understand Class"
   ],
   "metadata": {
    "id": "QHEzNgrJZT77"
   }
  },
  {
   "cell_type": "code",
   "source": [
    "class_counts = train_data_EV['Battery_Status'].value_counts()\n",
    "print(class_counts)"
   ],
   "metadata": {
    "colab": {
     "base_uri": "https://localhost:8080/"
    },
    "id": "YO9nbNDbZP-_",
    "outputId": "4450a8ba-fd8e-4711-d5f6-dce3504822ad"
   },
   "execution_count": null,
   "outputs": []
  },
  {
   "cell_type": "markdown",
   "source": [
    "We Have Imbalanced classes we have 0:78773, 1:28312 this will affect our model predictions"
   ],
   "metadata": {
    "id": "uzlQrn4GZKGM"
   }
  },
  {
   "cell_type": "markdown",
   "source": [
    "Plot Class Imbalance for better Visualization"
   ],
   "metadata": {
    "id": "K62W-XZ6Ziqo"
   }
  },
  {
   "cell_type": "code",
   "source": [
    "# Plot class distribution\n",
    "plt.bar(class_counts.index, class_counts.values, color=['blue', 'orange'])\n",
    "plt.xlabel('Battery Status')\n",
    "plt.ylabel('Number of Instances')\n",
    "plt.title('Class Distribution of Battery Status')\n",
    "plt.xticks([0, 1], ['Normal', 'Low'])\n",
    "plt.show()"
   ],
   "metadata": {
    "colab": {
     "base_uri": "https://localhost:8080/",
     "height": 472
    },
    "id": "2rn-iuUwZLCX",
    "outputId": "d7238104-d3c7-4262-c149-563a201a7b1d"
   },
   "execution_count": null,
   "outputs": []
  },
  {
   "cell_type": "code",
   "source": [],
   "metadata": {
    "id": "Ys_gDO9jZfvZ"
   },
   "execution_count": null,
   "outputs": []
  },
  {
   "cell_type": "markdown",
   "source": [
    "# Try to Balance the Data"
   ],
   "metadata": {
    "id": "96nH25KhZ8V5"
   }
  },
  {
   "cell_type": "code",
   "source": [
    "smote = SMOTE()\n",
    "X_resampled, y_resampled = smote.fit_resample(X_train, y_train)"
   ],
   "metadata": {
    "id": "NITVWRjVaB3X"
   },
   "execution_count": null,
   "outputs": []
  },
  {
   "cell_type": "markdown",
   "source": [
    "#We Train the model"
   ],
   "metadata": {
    "id": "bPCmWGtnaNL5"
   }
  },
  {
   "cell_type": "code",
   "source": [
    "# Train KNN model\n",
    "model_knn = KNeighborsClassifier(n_neighbors=3)\n",
    "model_knn.fit(X_resampled, y_resampled)\n",
    "\n",
    "# Predict on the test set\n",
    "y_pred = model_knn.predict(X_test)"
   ],
   "metadata": {
    "id": "OfoY6BULaFVp"
   },
   "execution_count": null,
   "outputs": []
  },
  {
   "cell_type": "markdown",
   "source": [
    "# Evaluate the Model Using Metrics"
   ],
   "metadata": {
    "id": "mDlb3GFsaUvA"
   }
  },
  {
   "cell_type": "code",
   "source": [
    "# Evaluate the model\n",
    "print(\"Accuracy:\", accuracy_score(y_test, y_pred))\n",
    "\n",
    "print(\"Confusion Matrix:\")\n",
    "print(confusion_matrix(y_test, y_pred))\n",
    "print(\"\\nClassification Report:\")\n",
    "print(classification_report(y_test, y_pred))"
   ],
   "metadata": {
    "colab": {
     "base_uri": "https://localhost:8080/"
    },
    "id": "bbdnHNmPaMvA",
    "outputId": "541c6f6a-026b-4a35-94c4-2ec84782632f"
   },
   "execution_count": null,
   "outputs": []
  },
  {
   "cell_type": "markdown",
   "source": [],
   "metadata": {
    "id": "SUfA6X4nafQ8"
   }
  },
  {
   "cell_type": "code",
   "source": [
    "# for class 1 probabilities\n",
    "y_prob = model_knn.predict_proba(X_test)[:, 1]\n",
    "\n",
    "auc = roc_auc_score(y_test, y_prob)\n",
    "print(f\"Area Under the Curve (AUC): {auc:.4f}\")\n",
    "\n",
    "# Optionally, plot the ROC curve\n",
    "fpr, tpr, thresholds = roc_curve(y_test, y_prob)\n",
    "\n",
    "plt.figure()\n",
    "plt.plot(fpr, tpr, color='blue', label=f'ROC curve (area = {auc:.4f})')\n",
    "plt.plot([0, 1], [0, 1], color='red', linestyle='--')  # Diagonal line\n",
    "plt.xlim([0.0, 1.0])\n",
    "plt.ylim([0.0, 1.05])\n",
    "plt.xlabel('False Positive Rate')\n",
    "plt.ylabel('True Positive Rate')\n",
    "plt.title('Receiver Operating Characteristic (ROC) Curve')\n",
    "plt.legend(loc=\"lower right\")\n",
    "plt.show()"
   ],
   "metadata": {
    "colab": {
     "base_uri": "https://localhost:8080/",
     "height": 489
    },
    "id": "-XyurIZvaTyo",
    "outputId": "e666f5c5-586e-479b-a7fb-c0fd43f00a4c"
   },
   "execution_count": null,
   "outputs": []
  },
  {
   "cell_type": "markdown",
   "source": [
    "#Plot Prediction"
   ],
   "metadata": {
    "id": "rcqCcsKiaj4i"
   }
  },
  {
   "cell_type": "code",
   "source": [
    "plt.scatter(X_train, y_train, color='blue', label='Training Data')\n",
    "plt.scatter(X_test, y_test, color='green', label='True Test Data')\n",
    "plt.scatter(X_test, y_pred, color='red', marker='x', label='Predicted Test Data')\n",
    "plt.xlabel('Feature')\n",
    "plt.ylabel('Target')\n",
    "plt.legend()\n",
    "plt.show()"
   ],
   "metadata": {
    "colab": {
     "base_uri": "https://localhost:8080/",
     "height": 449
    },
    "id": "41Jqz4ctalp0",
    "outputId": "1ca61a05-0783-4eb0-e3cc-0c731b468869"
   },
   "execution_count": null,
   "outputs": []
  },
  {
   "cell_type": "code",
   "source": [],
   "metadata": {
    "id": "AsNTXCSlamOv"
   },
   "execution_count": null,
   "outputs": []
  }
 ]
}
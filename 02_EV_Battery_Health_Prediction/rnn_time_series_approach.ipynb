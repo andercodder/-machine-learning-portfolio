{
 "nbformat": 4,
 "nbformat_minor": 0,
 "metadata": {
  "colab": {
   "provenance": []
  },
  "kernelspec": {
   "name": "python3",
   "display_name": "Python 3"
  },
  "language_info": {
   "name": "python"
  }
 },
 "cells": [
  {
   "cell_type": "code",
   "source": [
    "import pandas as pd\n",
    "from tensorflow.keras.models import Sequential\n",
    "from tensorflow.keras.layers import SimpleRNN, Dense\n",
    "from sklearn.metrics import classification_report\n",
    "from sklearn.preprocessing import MinMaxScaler\n",
    "from google.colab import drive\n",
    "from sklearn.metrics import roc_auc_score, roc_curve\n",
    "from sklearn.utils.class_weight import compute_class_weight\n",
    "#from tensorflow.keras.optimizers import RMSprop\n",
    "import matplotlib.pyplot as plt\n",
    "import seaborn as sns\n",
    "import numpy as np\n"
   ],
   "metadata": {
    "id": "gnwEHP2vdJba"
   },
   "execution_count": null,
   "outputs": []
  },
  {
   "cell_type": "code",
   "source": [
    "\n",
    "drive.mount('/content/drive')"
   ],
   "metadata": {
    "colab": {
     "base_uri": "https://localhost:8080/"
    },
    "id": "gYQ7SSHC1l3Q",
    "outputId": "d575ee3d-05b1-4065-dac8-04c491a3053f"
   },
   "execution_count": null,
   "outputs": []
  },
  {
   "cell_type": "code",
   "source": [
    "# Load the data\n",
    "train_data_EV = pd.read_csv('Train.csv')\n",
    "test_data_EV = pd.read_csv('Test.csv')\n",
    "\n",
    "# Inspect the data to understand its structure\n",
    "print(train_data_EV.head())\n",
    "#print(test_data_EV.head())"
   ],
   "metadata": {
    "colab": {
     "base_uri": "https://localhost:8080/"
    },
    "id": "ps-0LHtVrgJf",
    "outputId": "cdb6b5e7-28b3-49c3-fd04-2ab32d9e48f4"
   },
   "execution_count": null,
   "outputs": []
  },
  {
   "cell_type": "markdown",
   "source": [
    "Pre-Processing"
   ],
   "metadata": {
    "id": "_nne2pkR07OS"
   }
  },
  {
   "cell_type": "code",
   "source": [
    "# Normalize the feature\n",
    "scaler = MinMaxScaler()\n",
    "train_data_EV['VehicleSpeed_km_h_'] = scaler.fit_transform(train_data_EV[['VehicleSpeed_km_h_']])\n",
    "test_data_EV['VehicleSpeed_km_h_'] = scaler.transform(test_data_EV[['VehicleSpeed_km_h_']])\n"
   ],
   "metadata": {
    "id": "BnwcBZgG0s1x"
   },
   "execution_count": null,
   "outputs": []
  },
  {
   "cell_type": "markdown",
   "source": [
    "Prepare the Input and Target Variables\n"
   ],
   "metadata": {
    "id": "5iVB9ndnrwzb"
   }
  },
  {
   "cell_type": "code",
   "source": [
    "# Separate features (X) and target (y)\n",
    "X_train = train_data_EV[['VehicleSpeed_km_h_']].values\n",
    "y_train = train_data_EV['Battery_Status'].values\n",
    "\n",
    "X_test = test_data_EV[['VehicleSpeed_km_h_']].values\n",
    "y_test = test_data_EV['Battery_Status'].values\n",
    "\n",
    "# Reshape X to have 3D shape: (samples, time steps, features)\n",
    "X_train = X_train.reshape((X_train.shape[0], 1, X_train.shape[1]))\n",
    "X_test = X_test.reshape((X_test.shape[0], 1, X_test.shape[1]))"
   ],
   "metadata": {
    "id": "O4qQtG9Brywb"
   },
   "execution_count": null,
   "outputs": []
  },
  {
   "cell_type": "code",
   "source": [],
   "metadata": {
    "id": "X-F4qKsBr6xk"
   },
   "execution_count": null,
   "outputs": []
  },
  {
   "cell_type": "markdown",
   "source": [
    "Build the RNN Model"
   ],
   "metadata": {
    "id": "9MzjhwV2r8qo"
   }
  },
  {
   "cell_type": "code",
   "source": [
    "# Create the RNN model\n",
    "model = Sequential()\n",
    "model.add(SimpleRNN(50, activation='tanh', input_shape=(X_train.shape[1], X_train.shape[2])))\n",
    "model.add(Dense(1, activation='sigmoid'))  # Use 'sigmoid' for binary classification\n",
    "\n",
    "# Compile the model\n",
    "model.compile(optimizer='RMSprop', loss='binary_crossentropy',metrics=['accuracy'] )"
   ],
   "metadata": {
    "colab": {
     "base_uri": "https://localhost:8080/"
    },
    "id": "zpj4QvDkr9R_",
    "outputId": "f00095be-30e5-45cd-9a4b-98fe191881e8"
   },
   "execution_count": null,
   "outputs": []
  },
  {
   "cell_type": "code",
   "source": [],
   "metadata": {
    "id": "8vSb_CQxnVRL"
   },
   "execution_count": null,
   "outputs": []
  },
  {
   "cell_type": "markdown",
   "source": [
    "Train The Model"
   ],
   "metadata": {
    "id": "uwAoJbyVsdgp"
   }
  },
  {
   "cell_type": "code",
   "source": [
    "# Train the model\n",
    "history = model.fit(X_train, y_train, epochs=50, batch_size=32, validation_split=0.2)\n"
   ],
   "metadata": {
    "colab": {
     "base_uri": "https://localhost:8080/"
    },
    "collapsed": true,
    "id": "XSLViHwdsSkD",
    "outputId": "9b66ea31-5e3d-4362-8122-5fdfd8c5457a"
   },
   "execution_count": null,
   "outputs": []
  },
  {
   "cell_type": "code",
   "source": [
    "loss, accuracy = model.evaluate(X_test, y_test)\n",
    "print(f'Test Accuracy: {accuracy:.4f}')"
   ],
   "metadata": {
    "colab": {
     "base_uri": "https://localhost:8080/"
    },
    "id": "NYICk728stjG",
    "outputId": "059a48de-d019-47c8-ef06-520f31d94c1e"
   },
   "execution_count": null,
   "outputs": []
  },
  {
   "cell_type": "markdown",
   "source": [
    "Predictions"
   ],
   "metadata": {
    "id": "Uv8agrJtv6X7"
   }
  },
  {
   "cell_type": "code",
   "source": [
    "# Get predictions on the test set\n",
    "y_pred = model.predict(X_test)\n",
    "\n",
    "# Convert probabilities to binary classes (0 or 1)\n",
    "y_pred_classes = (y_pred > 0.5).astype(int)\n",
    "\n",
    "# Use y_pred_classes in classification_report\n",
    "report = classification_report(y_test, y_pred_classes, output_dict=True)\n",
    "report_df = pd.DataFrame(report).transpose()"
   ],
   "metadata": {
    "colab": {
     "base_uri": "https://localhost:8080/"
    },
    "collapsed": true,
    "id": "HVkbzUxQvhy6",
    "outputId": "7eedf0c1-3cc3-4c72-ef32-9340c06315e9"
   },
   "execution_count": null,
   "outputs": []
  },
  {
   "cell_type": "markdown",
   "source": [
    "Generate the Report"
   ],
   "metadata": {
    "id": "jagdIL4twESP"
   }
  },
  {
   "cell_type": "code",
   "source": [
    "report = classification_report(y_test, y_pred_classes)\n",
    "print(\"Classification Report:\\n\")\n",
    "print(report)"
   ],
   "metadata": {
    "colab": {
     "base_uri": "https://localhost:8080/"
    },
    "collapsed": true,
    "id": "5EnVl_6mwH_H",
    "outputId": "f498a878-4a9d-444f-94e2-6b1665496b9e"
   },
   "execution_count": null,
   "outputs": []
  },
  {
   "cell_type": "code",
   "source": [
    "plt.figure(figsize=(10, 6))\n",
    "sns.heatmap(report_df.iloc[:-1, :-1], annot=True, cmap='Blues', fmt=\".2f\")\n",
    "plt.title('Classification Report')\n",
    "plt.ylabel('Metrics')\n",
    "plt.xlabel('Classes')\n",
    "plt.show()"
   ],
   "metadata": {
    "colab": {
     "base_uri": "https://localhost:8080/",
     "height": 564
    },
    "id": "LwWSwebc876M",
    "outputId": "93db5cd7-79f9-43f7-ef2d-fb500d388128"
   },
   "execution_count": null,
   "outputs": []
  },
  {
   "cell_type": "markdown",
   "source": [],
   "metadata": {
    "id": "vhY7YmCWBAX7"
   }
  },
  {
   "cell_type": "code",
   "source": [],
   "metadata": {
    "id": "v9LEywq0s9Pm"
   },
   "execution_count": null,
   "outputs": []
  },
  {
   "cell_type": "markdown",
   "source": [
    "Calculate AUC Score: Compute the AUC using roc_auc_score.\n",
    "\n"
   ],
   "metadata": {
    "id": "i4m7iddYBH9Y"
   }
  },
  {
   "cell_type": "code",
   "source": [
    "y_prob = model.predict(X_test)\n",
    "auc_score = roc_auc_score(y_test, y_prob)\n",
    "print(f\"AUC Score: {auc_score:.4f}\")\n"
   ],
   "metadata": {
    "colab": {
     "base_uri": "https://localhost:8080/"
    },
    "id": "_sV9w-c0AnCR",
    "outputId": "d51f5906-15b9-4614-eee5-01ce5bb86b58"
   },
   "execution_count": null,
   "outputs": []
  },
  {
   "cell_type": "markdown",
   "source": [
    "Plot the ROC Curve: Generate the ROC curve and plot it.\n",
    "\n"
   ],
   "metadata": {
    "id": "01sGI0TKBGL1"
   }
  },
  {
   "cell_type": "code",
   "source": [
    "fpr, tpr, _ = roc_curve(y_test, y_prob)\n",
    "\n",
    "plt.figure(figsize=(8, 6))\n",
    "plt.plot(fpr, tpr, color='blue', label=f'RNN Model (AUC = {auc_score:.4f})')\n",
    "plt.plot([0, 1], [0, 1], color='red', linestyle='--')\n",
    "plt.xlabel('False Positive Rate')\n",
    "plt.ylabel('True Positive Rate')\n",
    "plt.title('Receiver Operating Characteristic (ROC) Curve')\n",
    "plt.legend(loc='lower right')\n",
    "plt.grid()\n",
    "plt.show()"
   ],
   "metadata": {
    "colab": {
     "base_uri": "https://localhost:8080/",
     "height": 564
    },
    "id": "I5VKmRRqArNc",
    "outputId": "fbce238b-aa32-4e31-e9ca-38b5036bdb32"
   },
   "execution_count": null,
   "outputs": []
  }
 ]
}
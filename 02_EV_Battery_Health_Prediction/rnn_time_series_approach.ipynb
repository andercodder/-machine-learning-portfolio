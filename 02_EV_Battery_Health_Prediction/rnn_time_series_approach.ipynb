{
  "nbformat": 4,
  "nbformat_minor": 0,
  "metadata": {
    "colab": {
      "provenance": []
    },
    "kernelspec": {
      "name": "python3",
      "display_name": "Python 3"
    },
    "language_info": {
      "name": "python"
    }
  },
  "cells": [
    {
      "cell_type": "code",
      "source": [
        "import pandas as pd\n",
        "from tensorflow.keras.models import Sequential\n",
        "from tensorflow.keras.layers import SimpleRNN, Dense\n",
        "from sklearn.metrics import classification_report\n",
        "from sklearn.preprocessing import MinMaxScaler\n",
        "from google.colab import drive\n",
        "from sklearn.metrics import roc_auc_score, roc_curve\n",
        "from sklearn.utils.class_weight import compute_class_weight\n",
        "#from tensorflow.keras.optimizers import RMSprop\n",
        "import matplotlib.pyplot as plt\n",
        "import seaborn as sns\n",
        "import numpy as np\n"
      ],
      "metadata": {
        "id": "gnwEHP2vdJba"
      },
      "execution_count": 178,
      "outputs": []
    },
    {
      "cell_type": "code",
      "source": [
        "\n",
        "drive.mount('/content/drive')"
      ],
      "metadata": {
        "colab": {
          "base_uri": "https://localhost:8080/"
        },
        "id": "gYQ7SSHC1l3Q",
        "outputId": "d575ee3d-05b1-4065-dac8-04c491a3053f"
      },
      "execution_count": 179,
      "outputs": [
        {
          "output_type": "stream",
          "name": "stdout",
          "text": [
            "Drive already mounted at /content/drive; to attempt to forcibly remount, call drive.mount(\"/content/drive\", force_remount=True).\n"
          ]
        }
      ]
    },
    {
      "cell_type": "code",
      "source": [
        "# Load the data\n",
        "train_data_EV = pd.read_csv('Train.csv')\n",
        "test_data_EV = pd.read_csv('Test.csv')\n",
        "\n",
        "# Inspect the data to understand its structure\n",
        "print(train_data_EV.head())\n",
        "#print(test_data_EV.head())"
      ],
      "metadata": {
        "colab": {
          "base_uri": "https://localhost:8080/"
        },
        "id": "ps-0LHtVrgJf",
        "outputId": "cdb6b5e7-28b3-49c3-fd04-2ab32d9e48f4"
      },
      "execution_count": 180,
      "outputs": [
        {
          "output_type": "stream",
          "name": "stdout",
          "text": [
            "   Trip  VehicleSpeed_km_h_  Battery_Status\n",
            "0  1567                7.76               0\n",
            "1  1567                4.91               0\n",
            "2  1567                3.47               0\n",
            "3  1567                3.47               0\n",
            "4  1567                0.00               0\n"
          ]
        }
      ]
    },
    {
      "cell_type": "markdown",
      "source": [
        "Pre-Processing"
      ],
      "metadata": {
        "id": "_nne2pkR07OS"
      }
    },
    {
      "cell_type": "code",
      "source": [
        "# Normalize the feature\n",
        "scaler = MinMaxScaler()\n",
        "train_data_EV['VehicleSpeed_km_h_'] = scaler.fit_transform(train_data_EV[['VehicleSpeed_km_h_']])\n",
        "test_data_EV['VehicleSpeed_km_h_'] = scaler.transform(test_data_EV[['VehicleSpeed_km_h_']])\n"
      ],
      "metadata": {
        "id": "BnwcBZgG0s1x"
      },
      "execution_count": 181,
      "outputs": []
    },
    {
      "cell_type": "markdown",
      "source": [
        "Prepare the Input and Target Variables\n"
      ],
      "metadata": {
        "id": "5iVB9ndnrwzb"
      }
    },
    {
      "cell_type": "code",
      "source": [
        "# Separate features (X) and target (y)\n",
        "X_train = train_data_EV[['VehicleSpeed_km_h_']].values\n",
        "y_train = train_data_EV['Battery_Status'].values\n",
        "\n",
        "X_test = test_data_EV[['VehicleSpeed_km_h_']].values\n",
        "y_test = test_data_EV['Battery_Status'].values\n",
        "\n",
        "# Reshape X to have 3D shape: (samples, time steps, features)\n",
        "X_train = X_train.reshape((X_train.shape[0], 1, X_train.shape[1]))\n",
        "X_test = X_test.reshape((X_test.shape[0], 1, X_test.shape[1]))"
      ],
      "metadata": {
        "id": "O4qQtG9Brywb"
      },
      "execution_count": 182,
      "outputs": []
    },
    {
      "cell_type": "code",
      "source": [],
      "metadata": {
        "id": "X-F4qKsBr6xk"
      },
      "execution_count": 182,
      "outputs": []
    },
    {
      "cell_type": "markdown",
      "source": [
        "Build the RNN Model"
      ],
      "metadata": {
        "id": "9MzjhwV2r8qo"
      }
    },
    {
      "cell_type": "code",
      "source": [
        "# Create the RNN model\n",
        "model = Sequential()\n",
        "model.add(SimpleRNN(50, activation='tanh', input_shape=(X_train.shape[1], X_train.shape[2])))\n",
        "model.add(Dense(1, activation='sigmoid'))  # Use 'sigmoid' for binary classification\n",
        "\n",
        "# Compile the model\n",
        "model.compile(optimizer='RMSprop', loss='binary_crossentropy',metrics=['accuracy'] )"
      ],
      "metadata": {
        "colab": {
          "base_uri": "https://localhost:8080/"
        },
        "id": "zpj4QvDkr9R_",
        "outputId": "f00095be-30e5-45cd-9a4b-98fe191881e8"
      },
      "execution_count": 183,
      "outputs": [
        {
          "output_type": "stream",
          "name": "stderr",
          "text": [
            "/usr/local/lib/python3.10/dist-packages/keras/src/layers/rnn/rnn.py:204: UserWarning: Do not pass an `input_shape`/`input_dim` argument to a layer. When using Sequential models, prefer using an `Input(shape)` object as the first layer in the model instead.\n",
            "  super().__init__(**kwargs)\n"
          ]
        }
      ]
    },
    {
      "cell_type": "code",
      "source": [],
      "metadata": {
        "id": "8vSb_CQxnVRL"
      },
      "execution_count": 183,
      "outputs": []
    },
    {
      "cell_type": "markdown",
      "source": [
        "Train The Model"
      ],
      "metadata": {
        "id": "uwAoJbyVsdgp"
      }
    },
    {
      "cell_type": "code",
      "source": [
        "# Train the model\n",
        "history = model.fit(X_train, y_train, epochs=50, batch_size=32, validation_split=0.2)\n"
      ],
      "metadata": {
        "colab": {
          "base_uri": "https://localhost:8080/"
        },
        "collapsed": true,
        "id": "XSLViHwdsSkD",
        "outputId": "9b66ea31-5e3d-4362-8122-5fdfd8c5457a"
      },
      "execution_count": 184,
      "outputs": [
        {
          "output_type": "stream",
          "name": "stdout",
          "text": [
            "Epoch 1/50\n",
            "\u001b[1m2678/2678\u001b[0m \u001b[32m━━━━━━━━━━━━━━━━━━━━\u001b[0m\u001b[37m\u001b[0m \u001b[1m11s\u001b[0m 3ms/step - accuracy: 0.7433 - loss: 0.5740 - val_accuracy: 0.7066 - val_loss: 0.6065\n",
            "Epoch 2/50\n",
            "\u001b[1m2678/2678\u001b[0m \u001b[32m━━━━━━━━━━━━━━━━━━━━\u001b[0m\u001b[37m\u001b[0m \u001b[1m8s\u001b[0m 3ms/step - accuracy: 0.7450 - loss: 0.5667 - val_accuracy: 0.7066 - val_loss: 0.6045\n",
            "Epoch 3/50\n",
            "\u001b[1m2678/2678\u001b[0m \u001b[32m━━━━━━━━━━━━━━━━━━━━\u001b[0m\u001b[37m\u001b[0m \u001b[1m12s\u001b[0m 4ms/step - accuracy: 0.7414 - loss: 0.5705 - val_accuracy: 0.7066 - val_loss: 0.6093\n",
            "Epoch 4/50\n",
            "\u001b[1m2678/2678\u001b[0m \u001b[32m━━━━━━━━━━━━━━━━━━━━\u001b[0m\u001b[37m\u001b[0m \u001b[1m8s\u001b[0m 3ms/step - accuracy: 0.7415 - loss: 0.5704 - val_accuracy: 0.7066 - val_loss: 0.6103\n",
            "Epoch 5/50\n",
            "\u001b[1m2678/2678\u001b[0m \u001b[32m━━━━━━━━━━━━━━━━━━━━\u001b[0m\u001b[37m\u001b[0m \u001b[1m10s\u001b[0m 3ms/step - accuracy: 0.7432 - loss: 0.5687 - val_accuracy: 0.7066 - val_loss: 0.6060\n",
            "Epoch 6/50\n",
            "\u001b[1m2678/2678\u001b[0m \u001b[32m━━━━━━━━━━━━━━━━━━━━\u001b[0m\u001b[37m\u001b[0m \u001b[1m12s\u001b[0m 3ms/step - accuracy: 0.7397 - loss: 0.5719 - val_accuracy: 0.7066 - val_loss: 0.6054\n",
            "Epoch 7/50\n",
            "\u001b[1m2678/2678\u001b[0m \u001b[32m━━━━━━━━━━━━━━━━━━━━\u001b[0m\u001b[37m\u001b[0m \u001b[1m11s\u001b[0m 4ms/step - accuracy: 0.7425 - loss: 0.5692 - val_accuracy: 0.7066 - val_loss: 0.6064\n",
            "Epoch 8/50\n",
            "\u001b[1m2678/2678\u001b[0m \u001b[32m━━━━━━━━━━━━━━━━━━━━\u001b[0m\u001b[37m\u001b[0m \u001b[1m6s\u001b[0m 2ms/step - accuracy: 0.7423 - loss: 0.5696 - val_accuracy: 0.7066 - val_loss: 0.6059\n",
            "Epoch 9/50\n",
            "\u001b[1m2678/2678\u001b[0m \u001b[32m━━━━━━━━━━━━━━━━━━━━\u001b[0m\u001b[37m\u001b[0m \u001b[1m12s\u001b[0m 3ms/step - accuracy: 0.7433 - loss: 0.5685 - val_accuracy: 0.7066 - val_loss: 0.6055\n",
            "Epoch 10/50\n",
            "\u001b[1m2678/2678\u001b[0m \u001b[32m━━━━━━━━━━━━━━━━━━━━\u001b[0m\u001b[37m\u001b[0m \u001b[1m12s\u001b[0m 3ms/step - accuracy: 0.7439 - loss: 0.5673 - val_accuracy: 0.7066 - val_loss: 0.6076\n",
            "Epoch 11/50\n",
            "\u001b[1m2678/2678\u001b[0m \u001b[32m━━━━━━━━━━━━━━━━━━━━\u001b[0m\u001b[37m\u001b[0m \u001b[1m8s\u001b[0m 3ms/step - accuracy: 0.7409 - loss: 0.5695 - val_accuracy: 0.7066 - val_loss: 0.6059\n",
            "Epoch 12/50\n",
            "\u001b[1m2678/2678\u001b[0m \u001b[32m━━━━━━━━━━━━━━━━━━━━\u001b[0m\u001b[37m\u001b[0m \u001b[1m8s\u001b[0m 3ms/step - accuracy: 0.7429 - loss: 0.5635 - val_accuracy: 0.7066 - val_loss: 0.5969\n",
            "Epoch 13/50\n",
            "\u001b[1m2678/2678\u001b[0m \u001b[32m━━━━━━━━━━━━━━━━━━━━\u001b[0m\u001b[37m\u001b[0m \u001b[1m9s\u001b[0m 3ms/step - accuracy: 0.7427 - loss: 0.5544 - val_accuracy: 0.7066 - val_loss: 0.5850\n",
            "Epoch 14/50\n",
            "\u001b[1m2678/2678\u001b[0m \u001b[32m━━━━━━━━━━━━━━━━━━━━\u001b[0m\u001b[37m\u001b[0m \u001b[1m10s\u001b[0m 3ms/step - accuracy: 0.7438 - loss: 0.5422 - val_accuracy: 0.7066 - val_loss: 0.5784\n",
            "Epoch 15/50\n",
            "\u001b[1m2678/2678\u001b[0m \u001b[32m━━━━━━━━━━━━━━━━━━━━\u001b[0m\u001b[37m\u001b[0m \u001b[1m9s\u001b[0m 3ms/step - accuracy: 0.7444 - loss: 0.5351 - val_accuracy: 0.7066 - val_loss: 0.5744\n",
            "Epoch 16/50\n",
            "\u001b[1m2678/2678\u001b[0m \u001b[32m━━━━━━━━━━━━━━━━━━━━\u001b[0m\u001b[37m\u001b[0m \u001b[1m9s\u001b[0m 3ms/step - accuracy: 0.7427 - loss: 0.5354 - val_accuracy: 0.7066 - val_loss: 0.5732\n",
            "Epoch 17/50\n",
            "\u001b[1m2678/2678\u001b[0m \u001b[32m━━━━━━━━━━━━━━━━━━━━\u001b[0m\u001b[37m\u001b[0m \u001b[1m9s\u001b[0m 3ms/step - accuracy: 0.7437 - loss: 0.5322 - val_accuracy: 0.7066 - val_loss: 0.5767\n",
            "Epoch 18/50\n",
            "\u001b[1m2678/2678\u001b[0m \u001b[32m━━━━━━━━━━━━━━━━━━━━\u001b[0m\u001b[37m\u001b[0m \u001b[1m9s\u001b[0m 3ms/step - accuracy: 0.7436 - loss: 0.5332 - val_accuracy: 0.7066 - val_loss: 0.5719\n",
            "Epoch 19/50\n",
            "\u001b[1m2678/2678\u001b[0m \u001b[32m━━━━━━━━━━━━━━━━━━━━\u001b[0m\u001b[37m\u001b[0m \u001b[1m8s\u001b[0m 3ms/step - accuracy: 0.7446 - loss: 0.5303 - val_accuracy: 0.7066 - val_loss: 0.5717\n",
            "Epoch 20/50\n",
            "\u001b[1m2678/2678\u001b[0m \u001b[32m━━━━━━━━━━━━━━━━━━━━\u001b[0m\u001b[37m\u001b[0m \u001b[1m9s\u001b[0m 3ms/step - accuracy: 0.7423 - loss: 0.5332 - val_accuracy: 0.7066 - val_loss: 0.5719\n",
            "Epoch 21/50\n",
            "\u001b[1m2678/2678\u001b[0m \u001b[32m━━━━━━━━━━━━━━━━━━━━\u001b[0m\u001b[37m\u001b[0m \u001b[1m9s\u001b[0m 3ms/step - accuracy: 0.7425 - loss: 0.5329 - val_accuracy: 0.7066 - val_loss: 0.5708\n",
            "Epoch 22/50\n",
            "\u001b[1m2678/2678\u001b[0m \u001b[32m━━━━━━━━━━━━━━━━━━━━\u001b[0m\u001b[37m\u001b[0m \u001b[1m8s\u001b[0m 3ms/step - accuracy: 0.7436 - loss: 0.5319 - val_accuracy: 0.7066 - val_loss: 0.5776\n",
            "Epoch 23/50\n",
            "\u001b[1m2678/2678\u001b[0m \u001b[32m━━━━━━━━━━━━━━━━━━━━\u001b[0m\u001b[37m\u001b[0m \u001b[1m12s\u001b[0m 3ms/step - accuracy: 0.7442 - loss: 0.5311 - val_accuracy: 0.7066 - val_loss: 0.5715\n",
            "Epoch 24/50\n",
            "\u001b[1m2678/2678\u001b[0m \u001b[32m━━━━━━━━━━━━━━━━━━━━\u001b[0m\u001b[37m\u001b[0m \u001b[1m8s\u001b[0m 3ms/step - accuracy: 0.7440 - loss: 0.5309 - val_accuracy: 0.7066 - val_loss: 0.5702\n",
            "Epoch 25/50\n",
            "\u001b[1m2678/2678\u001b[0m \u001b[32m━━━━━━━━━━━━━━━━━━━━\u001b[0m\u001b[37m\u001b[0m \u001b[1m9s\u001b[0m 3ms/step - accuracy: 0.7417 - loss: 0.5324 - val_accuracy: 0.7066 - val_loss: 0.5713\n",
            "Epoch 26/50\n",
            "\u001b[1m2678/2678\u001b[0m \u001b[32m━━━━━━━━━━━━━━━━━━━━\u001b[0m\u001b[37m\u001b[0m \u001b[1m11s\u001b[0m 4ms/step - accuracy: 0.7422 - loss: 0.5337 - val_accuracy: 0.7066 - val_loss: 0.5702\n",
            "Epoch 27/50\n",
            "\u001b[1m2678/2678\u001b[0m \u001b[32m━━━━━━━━━━━━━━━━━━━━\u001b[0m\u001b[37m\u001b[0m \u001b[1m8s\u001b[0m 3ms/step - accuracy: 0.7434 - loss: 0.5320 - val_accuracy: 0.7066 - val_loss: 0.5724\n",
            "Epoch 28/50\n",
            "\u001b[1m2678/2678\u001b[0m \u001b[32m━━━━━━━━━━━━━━━━━━━━\u001b[0m\u001b[37m\u001b[0m \u001b[1m12s\u001b[0m 3ms/step - accuracy: 0.7421 - loss: 0.5325 - val_accuracy: 0.7066 - val_loss: 0.5707\n",
            "Epoch 29/50\n",
            "\u001b[1m2678/2678\u001b[0m \u001b[32m━━━━━━━━━━━━━━━━━━━━\u001b[0m\u001b[37m\u001b[0m \u001b[1m10s\u001b[0m 4ms/step - accuracy: 0.7455 - loss: 0.5292 - val_accuracy: 0.7066 - val_loss: 0.5708\n",
            "Epoch 30/50\n",
            "\u001b[1m2678/2678\u001b[0m \u001b[32m━━━━━━━━━━━━━━━━━━━━\u001b[0m\u001b[37m\u001b[0m \u001b[1m8s\u001b[0m 3ms/step - accuracy: 0.7426 - loss: 0.5317 - val_accuracy: 0.7066 - val_loss: 0.5762\n",
            "Epoch 31/50\n",
            "\u001b[1m2678/2678\u001b[0m \u001b[32m━━━━━━━━━━━━━━━━━━━━\u001b[0m\u001b[37m\u001b[0m \u001b[1m11s\u001b[0m 3ms/step - accuracy: 0.7409 - loss: 0.5330 - val_accuracy: 0.7066 - val_loss: 0.5729\n",
            "Epoch 32/50\n",
            "\u001b[1m2678/2678\u001b[0m \u001b[32m━━━━━━━━━━━━━━━━━━━━\u001b[0m\u001b[37m\u001b[0m \u001b[1m8s\u001b[0m 3ms/step - accuracy: 0.7421 - loss: 0.5315 - val_accuracy: 0.7066 - val_loss: 0.5695\n",
            "Epoch 33/50\n",
            "\u001b[1m2678/2678\u001b[0m \u001b[32m━━━━━━━━━━━━━━━━━━━━\u001b[0m\u001b[37m\u001b[0m \u001b[1m10s\u001b[0m 3ms/step - accuracy: 0.7414 - loss: 0.5322 - val_accuracy: 0.7066 - val_loss: 0.5694\n",
            "Epoch 34/50\n",
            "\u001b[1m2678/2678\u001b[0m \u001b[32m━━━━━━━━━━━━━━━━━━━━\u001b[0m\u001b[37m\u001b[0m \u001b[1m9s\u001b[0m 4ms/step - accuracy: 0.7428 - loss: 0.5319 - val_accuracy: 0.7066 - val_loss: 0.5701\n",
            "Epoch 35/50\n",
            "\u001b[1m2678/2678\u001b[0m \u001b[32m━━━━━━━━━━━━━━━━━━━━\u001b[0m\u001b[37m\u001b[0m \u001b[1m8s\u001b[0m 3ms/step - accuracy: 0.7408 - loss: 0.5345 - val_accuracy: 0.7066 - val_loss: 0.5695\n",
            "Epoch 36/50\n",
            "\u001b[1m2678/2678\u001b[0m \u001b[32m━━━━━━━━━━━━━━━━━━━━\u001b[0m\u001b[37m\u001b[0m \u001b[1m9s\u001b[0m 3ms/step - accuracy: 0.7433 - loss: 0.5317 - val_accuracy: 0.7066 - val_loss: 0.5707\n",
            "Epoch 37/50\n",
            "\u001b[1m2678/2678\u001b[0m \u001b[32m━━━━━━━━━━━━━━━━━━━━\u001b[0m\u001b[37m\u001b[0m \u001b[1m9s\u001b[0m 3ms/step - accuracy: 0.7421 - loss: 0.5322 - val_accuracy: 0.7066 - val_loss: 0.5710\n",
            "Epoch 38/50\n",
            "\u001b[1m2678/2678\u001b[0m \u001b[32m━━━━━━━━━━━━━━━━━━━━\u001b[0m\u001b[37m\u001b[0m \u001b[1m7s\u001b[0m 3ms/step - accuracy: 0.7446 - loss: 0.5304 - val_accuracy: 0.7066 - val_loss: 0.5705\n",
            "Epoch 39/50\n",
            "\u001b[1m2678/2678\u001b[0m \u001b[32m━━━━━━━━━━━━━━━━━━━━\u001b[0m\u001b[37m\u001b[0m \u001b[1m9s\u001b[0m 3ms/step - accuracy: 0.7419 - loss: 0.5320 - val_accuracy: 0.7066 - val_loss: 0.5699\n",
            "Epoch 40/50\n",
            "\u001b[1m2678/2678\u001b[0m \u001b[32m━━━━━━━━━━━━━━━━━━━━\u001b[0m\u001b[37m\u001b[0m \u001b[1m9s\u001b[0m 3ms/step - accuracy: 0.7424 - loss: 0.5307 - val_accuracy: 0.7066 - val_loss: 0.5694\n",
            "Epoch 41/50\n",
            "\u001b[1m2678/2678\u001b[0m \u001b[32m━━━━━━━━━━━━━━━━━━━━\u001b[0m\u001b[37m\u001b[0m \u001b[1m9s\u001b[0m 3ms/step - accuracy: 0.7443 - loss: 0.5299 - val_accuracy: 0.7066 - val_loss: 0.5695\n",
            "Epoch 42/50\n",
            "\u001b[1m2678/2678\u001b[0m \u001b[32m━━━━━━━━━━━━━━━━━━━━\u001b[0m\u001b[37m\u001b[0m \u001b[1m7s\u001b[0m 3ms/step - accuracy: 0.7427 - loss: 0.5325 - val_accuracy: 0.7066 - val_loss: 0.5695\n",
            "Epoch 43/50\n",
            "\u001b[1m2678/2678\u001b[0m \u001b[32m━━━━━━━━━━━━━━━━━━━━\u001b[0m\u001b[37m\u001b[0m \u001b[1m9s\u001b[0m 3ms/step - accuracy: 0.7415 - loss: 0.5329 - val_accuracy: 0.7066 - val_loss: 0.5697\n",
            "Epoch 44/50\n",
            "\u001b[1m2678/2678\u001b[0m \u001b[32m━━━━━━━━━━━━━━━━━━━━\u001b[0m\u001b[37m\u001b[0m \u001b[1m7s\u001b[0m 3ms/step - accuracy: 0.7419 - loss: 0.5333 - val_accuracy: 0.7066 - val_loss: 0.5699\n",
            "Epoch 45/50\n",
            "\u001b[1m2678/2678\u001b[0m \u001b[32m━━━━━━━━━━━━━━━━━━━━\u001b[0m\u001b[37m\u001b[0m \u001b[1m9s\u001b[0m 3ms/step - accuracy: 0.7465 - loss: 0.5289 - val_accuracy: 0.7066 - val_loss: 0.5706\n",
            "Epoch 46/50\n",
            "\u001b[1m2678/2678\u001b[0m \u001b[32m━━━━━━━━━━━━━━━━━━━━\u001b[0m\u001b[37m\u001b[0m \u001b[1m7s\u001b[0m 3ms/step - accuracy: 0.7422 - loss: 0.5327 - val_accuracy: 0.7066 - val_loss: 0.5693\n",
            "Epoch 47/50\n",
            "\u001b[1m2678/2678\u001b[0m \u001b[32m━━━━━━━━━━━━━━━━━━━━\u001b[0m\u001b[37m\u001b[0m \u001b[1m10s\u001b[0m 3ms/step - accuracy: 0.7433 - loss: 0.5305 - val_accuracy: 0.7066 - val_loss: 0.5731\n",
            "Epoch 48/50\n",
            "\u001b[1m2678/2678\u001b[0m \u001b[32m━━━━━━━━━━━━━━━━━━━━\u001b[0m\u001b[37m\u001b[0m \u001b[1m9s\u001b[0m 3ms/step - accuracy: 0.7428 - loss: 0.5306 - val_accuracy: 0.7066 - val_loss: 0.5692\n",
            "Epoch 49/50\n",
            "\u001b[1m2678/2678\u001b[0m \u001b[32m━━━━━━━━━━━━━━━━━━━━\u001b[0m\u001b[37m\u001b[0m \u001b[1m8s\u001b[0m 3ms/step - accuracy: 0.7407 - loss: 0.5342 - val_accuracy: 0.7066 - val_loss: 0.5713\n",
            "Epoch 50/50\n",
            "\u001b[1m2678/2678\u001b[0m \u001b[32m━━━━━━━━━━━━━━━━━━━━\u001b[0m\u001b[37m\u001b[0m \u001b[1m11s\u001b[0m 3ms/step - accuracy: 0.7438 - loss: 0.5303 - val_accuracy: 0.7066 - val_loss: 0.5700\n"
          ]
        }
      ]
    },
    {
      "cell_type": "code",
      "source": [
        "loss, accuracy = model.evaluate(X_test, y_test)\n",
        "print(f'Test Accuracy: {accuracy:.4f}')"
      ],
      "metadata": {
        "colab": {
          "base_uri": "https://localhost:8080/"
        },
        "id": "NYICk728stjG",
        "outputId": "059a48de-d019-47c8-ef06-520f31d94c1e"
      },
      "execution_count": 185,
      "outputs": [
        {
          "output_type": "stream",
          "name": "stdout",
          "text": [
            "\u001b[1m1881/1881\u001b[0m \u001b[32m━━━━━━━━━━━━━━━━━━━━\u001b[0m\u001b[37m\u001b[0m \u001b[1m3s\u001b[0m 2ms/step - accuracy: 0.7662 - loss: 0.4996\n",
            "Test Accuracy: 0.7427\n"
          ]
        }
      ]
    },
    {
      "cell_type": "markdown",
      "source": [
        "Predictions"
      ],
      "metadata": {
        "id": "Uv8agrJtv6X7"
      }
    },
    {
      "cell_type": "code",
      "source": [
        "# Get predictions on the test set\n",
        "y_pred = model.predict(X_test)\n",
        "\n",
        "# Convert probabilities to binary classes (0 or 1)\n",
        "y_pred_classes = (y_pred > 0.5).astype(int)\n",
        "\n",
        "# Use y_pred_classes in classification_report\n",
        "report = classification_report(y_test, y_pred_classes, output_dict=True)\n",
        "report_df = pd.DataFrame(report).transpose()"
      ],
      "metadata": {
        "colab": {
          "base_uri": "https://localhost:8080/"
        },
        "collapsed": true,
        "id": "HVkbzUxQvhy6",
        "outputId": "7eedf0c1-3cc3-4c72-ef32-9340c06315e9"
      },
      "execution_count": 186,
      "outputs": [
        {
          "output_type": "stream",
          "name": "stdout",
          "text": [
            "\u001b[1m1881/1881\u001b[0m \u001b[32m━━━━━━━━━━━━━━━━━━━━\u001b[0m\u001b[37m\u001b[0m \u001b[1m4s\u001b[0m 2ms/step\n"
          ]
        },
        {
          "output_type": "stream",
          "name": "stderr",
          "text": [
            "/usr/local/lib/python3.10/dist-packages/sklearn/metrics/_classification.py:1531: UndefinedMetricWarning: Precision is ill-defined and being set to 0.0 in labels with no predicted samples. Use `zero_division` parameter to control this behavior.\n",
            "  _warn_prf(average, modifier, f\"{metric.capitalize()} is\", len(result))\n",
            "/usr/local/lib/python3.10/dist-packages/sklearn/metrics/_classification.py:1531: UndefinedMetricWarning: Precision is ill-defined and being set to 0.0 in labels with no predicted samples. Use `zero_division` parameter to control this behavior.\n",
            "  _warn_prf(average, modifier, f\"{metric.capitalize()} is\", len(result))\n",
            "/usr/local/lib/python3.10/dist-packages/sklearn/metrics/_classification.py:1531: UndefinedMetricWarning: Precision is ill-defined and being set to 0.0 in labels with no predicted samples. Use `zero_division` parameter to control this behavior.\n",
            "  _warn_prf(average, modifier, f\"{metric.capitalize()} is\", len(result))\n"
          ]
        }
      ]
    },
    {
      "cell_type": "markdown",
      "source": [
        "Generate the Report"
      ],
      "metadata": {
        "id": "jagdIL4twESP"
      }
    },
    {
      "cell_type": "code",
      "source": [
        "report = classification_report(y_test, y_pred_classes)\n",
        "print(\"Classification Report:\\n\")\n",
        "print(report)"
      ],
      "metadata": {
        "colab": {
          "base_uri": "https://localhost:8080/"
        },
        "collapsed": true,
        "id": "5EnVl_6mwH_H",
        "outputId": "f498a878-4a9d-444f-94e2-6b1665496b9e"
      },
      "execution_count": 187,
      "outputs": [
        {
          "output_type": "stream",
          "name": "stdout",
          "text": [
            "Classification Report:\n",
            "\n",
            "              precision    recall  f1-score   support\n",
            "\n",
            "           0       0.74      1.00      0.85     44687\n",
            "           1       0.00      0.00      0.00     15485\n",
            "\n",
            "    accuracy                           0.74     60172\n",
            "   macro avg       0.37      0.50      0.43     60172\n",
            "weighted avg       0.55      0.74      0.63     60172\n",
            "\n"
          ]
        },
        {
          "output_type": "stream",
          "name": "stderr",
          "text": [
            "/usr/local/lib/python3.10/dist-packages/sklearn/metrics/_classification.py:1531: UndefinedMetricWarning: Precision is ill-defined and being set to 0.0 in labels with no predicted samples. Use `zero_division` parameter to control this behavior.\n",
            "  _warn_prf(average, modifier, f\"{metric.capitalize()} is\", len(result))\n",
            "/usr/local/lib/python3.10/dist-packages/sklearn/metrics/_classification.py:1531: UndefinedMetricWarning: Precision is ill-defined and being set to 0.0 in labels with no predicted samples. Use `zero_division` parameter to control this behavior.\n",
            "  _warn_prf(average, modifier, f\"{metric.capitalize()} is\", len(result))\n",
            "/usr/local/lib/python3.10/dist-packages/sklearn/metrics/_classification.py:1531: UndefinedMetricWarning: Precision is ill-defined and being set to 0.0 in labels with no predicted samples. Use `zero_division` parameter to control this behavior.\n",
            "  _warn_prf(average, modifier, f\"{metric.capitalize()} is\", len(result))\n"
          ]
        }
      ]
    },
    {
      "cell_type": "code",
      "source": [
        "plt.figure(figsize=(10, 6))\n",
        "sns.heatmap(report_df.iloc[:-1, :-1], annot=True, cmap='Blues', fmt=\".2f\")\n",
        "plt.title('Classification Report')\n",
        "plt.ylabel('Metrics')\n",
        "plt.xlabel('Classes')\n",
        "plt.show()"
      ],
      "metadata": {
        "colab": {
          "base_uri": "https://localhost:8080/",
          "height": 564
        },
        "id": "LwWSwebc876M",
        "outputId": "93db5cd7-79f9-43f7-ef2d-fb500d388128"
      },
      "execution_count": 188,
      "outputs": [
        {
          "output_type": "display_data",
          "data": {
            "text/plain": [
              "<Figure size 1000x600 with 2 Axes>"
            ],
            "image/png": "[encoded data removed]"
          },
          "metadata": {}
        }
      ]
    },
    {
      "cell_type": "markdown",
      "source": [],
      "metadata": {
        "id": "vhY7YmCWBAX7"
      }
    },
    {
      "cell_type": "code",
      "source": [],
      "metadata": {
        "id": "v9LEywq0s9Pm"
      },
      "execution_count": 188,
      "outputs": []
    },
    {
      "cell_type": "markdown",
      "source": [
        "Calculate AUC Score: Compute the AUC using roc_auc_score.\n",
        "\n"
      ],
      "metadata": {
        "id": "i4m7iddYBH9Y"
      }
    },
    {
      "cell_type": "code",
      "source": [
        "y_prob = model.predict(X_test)\n",
        "auc_score = roc_auc_score(y_test, y_prob)\n",
        "print(f\"AUC Score: {auc_score:.4f}\")\n"
      ],
      "metadata": {
        "colab": {
          "base_uri": "https://localhost:8080/"
        },
        "id": "_sV9w-c0AnCR",
        "outputId": "d51f5906-15b9-4614-eee5-01ce5bb86b58"
      },
      "execution_count": 189,
      "outputs": [
        {
          "output_type": "stream",
          "name": "stdout",
          "text": [
            "\u001b[1m1881/1881\u001b[0m \u001b[32m━━━━━━━━━━━━━━━━━━━━\u001b[0m\u001b[37m\u001b[0m \u001b[1m3s\u001b[0m 1ms/step\n",
            "AUC Score: 0.7009\n"
          ]
        }
      ]
    },
    {
      "cell_type": "markdown",
      "source": [
        "Plot the ROC Curve: Generate the ROC curve and plot it.\n",
        "\n"
      ],
      "metadata": {
        "id": "01sGI0TKBGL1"
      }
    },
    {
      "cell_type": "code",
      "source": [
        "fpr, tpr, _ = roc_curve(y_test, y_prob)\n",
        "\n",
        "plt.figure(figsize=(8, 6))\n",
        "plt.plot(fpr, tpr, color='blue', label=f'RNN Model (AUC = {auc_score:.4f})')\n",
        "plt.plot([0, 1], [0, 1], color='red', linestyle='--')\n",
        "plt.xlabel('False Positive Rate')\n",
        "plt.ylabel('True Positive Rate')\n",
        "plt.title('Receiver Operating Characteristic (ROC) Curve')\n",
        "plt.legend(loc='lower right')\n",
        "plt.grid()\n",
        "plt.show()"
      ],
      "metadata": {
        "colab": {
          "base_uri": "https://localhost:8080/",
          "height": 564
        },
        "id": "I5VKmRRqArNc",
        "outputId": "fbce238b-aa32-4e31-e9ca-38b5036bdb32"
      },
      "execution_count": 192,
      "outputs": [
        {
          "output_type": "display_data",
          "data": {
            "text/plain": [
              "<Figure size 800x600 with 1 Axes>"
            ],
            "image/png": "[encoded data removed]"
          },
          "metadata": {}
        }
      ]
    }
  ]
}
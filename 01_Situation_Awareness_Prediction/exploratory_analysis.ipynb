{
 "nbformat": 4,
 "nbformat_minor": 0,
 "metadata": {
  "colab": {
   "provenance": []
  },
  "kernelspec": {
   "name": "python3",
   "display_name": "Python 3"
  },
  "language_info": {
   "name": "python"
  },
  "widgets": {
   "application/vnd.jupyter.widget-state+json": {
    "ed4ad488af87422da6026e2c771107d0": {
     "model_module": "@jupyter-widgets/controls",
     "model_name": "HBoxModel",
     "model_module_version": "1.5.0",
     "state": {
      "_dom_classes": [],
      "_model_module": "@jupyter-widgets/controls",
      "_model_module_version": "1.5.0",
      "_model_name": "HBoxModel",
      "_view_count": null,
      "_view_module": "@jupyter-widgets/controls",
      "_view_module_version": "1.5.0",
      "_view_name": "HBoxView",
      "box_style": "",
      "children": [
       "IPY_MODEL_5f0d5eb0c2824b96b5642d140f396490",
       "IPY_MODEL_815824b2a7464cfc8f36b3939d55cc8d",
       "IPY_MODEL_477e657cb1f84c24bd34d04e82d917fd"
      ],
      "layout": "IPY_MODEL_6d51e72cf383483fa8d60f78f1890a84"
     }
    },
    "5f0d5eb0c2824b96b5642d140f396490": {
     "model_module": "@jupyter-widgets/controls",
     "model_name": "HTMLModel",
     "model_module_version": "1.5.0",
     "state": {
      "_dom_classes": [],
      "_model_module": "@jupyter-widgets/controls",
      "_model_module_version": "1.5.0",
      "_model_name": "HTMLModel",
      "_view_count": null,
      "_view_module": "@jupyter-widgets/controls",
      "_view_module_version": "1.5.0",
      "_view_name": "HTMLView",
      "description": "",
      "description_tooltip": null,
      "layout": "IPY_MODEL_f7a9871c985a4bf5b686e1311d478e69",
      "placeholder": "​",
      "style": "IPY_MODEL_3352deb4504a403fad3ac3b9fd031665",
      "value": "100%"
     }
    },
    "815824b2a7464cfc8f36b3939d55cc8d": {
     "model_module": "@jupyter-widgets/controls",
     "model_name": "FloatProgressModel",
     "model_module_version": "1.5.0",
     "state": {
      "_dom_classes": [],
      "_model_module": "@jupyter-widgets/controls",
      "_model_module_version": "1.5.0",
      "_model_name": "FloatProgressModel",
      "_view_count": null,
      "_view_module": "@jupyter-widgets/controls",
      "_view_module_version": "1.5.0",
      "_view_name": "ProgressView",
      "bar_style": "success",
      "description": "",
      "description_tooltip": null,
      "layout": "IPY_MODEL_fb57f046dc924c1ea61a70d2a972d6f0",
      "max": 211,
      "min": 0,
      "orientation": "horizontal",
      "style": "IPY_MODEL_e932865d4f1448d5b80e08dc22b7bacf",
      "value": 211
     }
    },
    "477e657cb1f84c24bd34d04e82d917fd": {
     "model_module": "@jupyter-widgets/controls",
     "model_name": "HTMLModel",
     "model_module_version": "1.5.0",
     "state": {
      "_dom_classes": [],
      "_model_module": "@jupyter-widgets/controls",
      "_model_module_version": "1.5.0",
      "_model_name": "HTMLModel",
      "_view_count": null,
      "_view_module": "@jupyter-widgets/controls",
      "_view_module_version": "1.5.0",
      "_view_name": "HTMLView",
      "description": "",
      "description_tooltip": null,
      "layout": "IPY_MODEL_c23b645e9a39491ba75cbb820bcf499d",
      "placeholder": "​",
      "style": "IPY_MODEL_ecce39c4accf4a16b6f223edc4781bc6",
      "value": " 211/211 [31:40&lt;00:00,  8.70s/it]"
     }
    },
    "6d51e72cf383483fa8d60f78f1890a84": {
     "model_module": "@jupyter-widgets/base",
     "model_name": "LayoutModel",
     "model_module_version": "1.2.0",
     "state": {
      "_model_module": "@jupyter-widgets/base",
      "_model_module_version": "1.2.0",
      "_model_name": "LayoutModel",
      "_view_count": null,
      "_view_module": "@jupyter-widgets/base",
      "_view_module_version": "1.2.0",
      "_view_name": "LayoutView",
      "align_content": null,
      "align_items": null,
      "align_self": null,
      "border": null,
      "bottom": null,
      "display": null,
      "flex": null,
      "flex_flow": null,
      "grid_area": null,
      "grid_auto_columns": null,
      "grid_auto_flow": null,
      "grid_auto_rows": null,
      "grid_column": null,
      "grid_gap": null,
      "grid_row": null,
      "grid_template_areas": null,
      "grid_template_columns": null,
      "grid_template_rows": null,
      "height": null,
      "justify_content": null,
      "justify_items": null,
      "left": null,
      "margin": null,
      "max_height": null,
      "max_width": null,
      "min_height": null,
      "min_width": null,
      "object_fit": null,
      "object_position": null,
      "order": null,
      "overflow": null,
      "overflow_x": null,
      "overflow_y": null,
      "padding": null,
      "right": null,
      "top": null,
      "visibility": null,
      "width": null
     }
    },
    "f7a9871c985a4bf5b686e1311d478e69": {
     "model_module": "@jupyter-widgets/base",
     "model_name": "LayoutModel",
     "model_module_version": "1.2.0",
     "state": {
      "_model_module": "@jupyter-widgets/base",
      "_model_module_version": "1.2.0",
      "_model_name": "LayoutModel",
      "_view_count": null,
      "_view_module": "@jupyter-widgets/base",
      "_view_module_version": "1.2.0",
      "_view_name": "LayoutView",
      "align_content": null,
      "align_items": null,
      "align_self": null,
      "border": null,
      "bottom": null,
      "display": null,
      "flex": null,
      "flex_flow": null,
      "grid_area": null,
      "grid_auto_columns": null,
      "grid_auto_flow": null,
      "grid_auto_rows": null,
      "grid_column": null,
      "grid_gap": null,
      "grid_row": null,
      "grid_template_areas": null,
      "grid_template_columns": null,
      "grid_template_rows": null,
      "height": null,
      "justify_content": null,
      "justify_items": null,
      "left": null,
      "margin": null,
      "max_height": null,
      "max_width": null,
      "min_height": null,
      "min_width": null,
      "object_fit": null,
      "object_position": null,
      "order": null,
      "overflow": null,
      "overflow_x": null,
      "overflow_y": null,
      "padding": null,
      "right": null,
      "top": null,
      "visibility": null,
      "width": null
     }
    },
    "3352deb4504a403fad3ac3b9fd031665": {
     "model_module": "@jupyter-widgets/controls",
     "model_name": "DescriptionStyleModel",
     "model_module_version": "1.5.0",
     "state": {
      "_model_module": "@jupyter-widgets/controls",
      "_model_module_version": "1.5.0",
      "_model_name": "DescriptionStyleModel",
      "_view_count": null,
      "_view_module": "@jupyter-widgets/base",
      "_view_module_version": "1.2.0",
      "_view_name": "StyleView",
      "description_width": ""
     }
    },
    "fb57f046dc924c1ea61a70d2a972d6f0": {
     "model_module": "@jupyter-widgets/base",
     "model_name": "LayoutModel",
     "model_module_version": "1.2.0",
     "state": {
      "_model_module": "@jupyter-widgets/base",
      "_model_module_version": "1.2.0",
      "_model_name": "LayoutModel",
      "_view_count": null,
      "_view_module": "@jupyter-widgets/base",
      "_view_module_version": "1.2.0",
      "_view_name": "LayoutView",
      "align_content": null,
      "align_items": null,
      "align_self": null,
      "border": null,
      "bottom": null,
      "display": null,
      "flex": null,
      "flex_flow": null,
      "grid_area": null,
      "grid_auto_columns": null,
      "grid_auto_flow": null,
      "grid_auto_rows": null,
      "grid_column": null,
      "grid_gap": null,
      "grid_row": null,
      "grid_template_areas": null,
      "grid_template_columns": null,
      "grid_template_rows": null,
      "height": null,
      "justify_content": null,
      "justify_items": null,
      "left": null,
      "margin": null,
      "max_height": null,
      "max_width": null,
      "min_height": null,
      "min_width": null,
      "object_fit": null,
      "object_position": null,
      "order": null,
      "overflow": null,
      "overflow_x": null,
      "overflow_y": null,
      "padding": null,
      "right": null,
      "top": null,
      "visibility": null,
      "width": null
     }
    },
    "e932865d4f1448d5b80e08dc22b7bacf": {
     "model_module": "@jupyter-widgets/controls",
     "model_name": "ProgressStyleModel",
     "model_module_version": "1.5.0",
     "state": {
      "_model_module": "@jupyter-widgets/controls",
      "_model_module_version": "1.5.0",
      "_model_name": "ProgressStyleModel",
      "_view_count": null,
      "_view_module": "@jupyter-widgets/base",
      "_view_module_version": "1.2.0",
      "_view_name": "StyleView",
      "bar_color": null,
      "description_width": ""
     }
    },
    "c23b645e9a39491ba75cbb820bcf499d": {
     "model_module": "@jupyter-widgets/base",
     "model_name": "LayoutModel",
     "model_module_version": "1.2.0",
     "state": {
      "_model_module": "@jupyter-widgets/base",
      "_model_module_version": "1.2.0",
      "_model_name": "LayoutModel",
      "_view_count": null,
      "_view_module": "@jupyter-widgets/base",
      "_view_module_version": "1.2.0",
      "_view_name": "LayoutView",
      "align_content": null,
      "align_items": null,
      "align_self": null,
      "border": null,
      "bottom": null,
      "display": null,
      "flex": null,
      "flex_flow": null,
      "grid_area": null,
      "grid_auto_columns": null,
      "grid_auto_flow": null,
      "grid_auto_rows": null,
      "grid_column": null,
      "grid_gap": null,
      "grid_row": null,
      "grid_template_areas": null,
      "grid_template_columns": null,
      "grid_template_rows": null,
      "height": null,
      "justify_content": null,
      "justify_items": null,
      "left": null,
      "margin": null,
      "max_height": null,
      "max_width": null,
      "min_height": null,
      "min_width": null,
      "object_fit": null,
      "object_position": null,
      "order": null,
      "overflow": null,
      "overflow_x": null,
      "overflow_y": null,
      "padding": null,
      "right": null,
      "top": null,
      "visibility": null,
      "width": null
     }
    },
    "ecce39c4accf4a16b6f223edc4781bc6": {
     "model_module": "@jupyter-widgets/controls",
     "model_name": "DescriptionStyleModel",
     "model_module_version": "1.5.0",
     "state": {
      "_model_module": "@jupyter-widgets/controls",
      "_model_module_version": "1.5.0",
      "_model_name": "DescriptionStyleModel",
      "_view_count": null,
      "_view_module": "@jupyter-widgets/base",
      "_view_module_version": "1.2.0",
      "_view_name": "StyleView",
      "description_width": ""
     }
    }
   }
  }
 },
 "cells": [
  {
   "cell_type": "code",
   "source": [
    "import shap\n",
    "import lightgbm as lgb\n",
    "import pandas as pd\n",
    "import numpy as np\n",
    "import matplotlib.pyplot as plt\n",
    "from sklearn.model_selection import train_test_split\n",
    "import seaborn as sns\n",
    "from sklearn.preprocessing import StandardScaler, OneHotEncoder\n",
    "from sklearn.compose import ColumnTransformer\n",
    "import lightgbm as lgb\n",
    "import numpy as np\n",
    "from sklearn.metrics import mean_squared_error, mean_absolute_error\n",
    "from sklearn.linear_model import LinearRegression\n",
    "from sklearn.model_selection import RandomizedSearchCV # Import RandomizedSearchCV\n",
    "\n"
   ],
   "metadata": {
    "id": "jjhEz_R7I-YF"
   },
   "execution_count": null,
   "outputs": []
  },
  {
   "cell_type": "code",
   "execution_count": null,
   "metadata": {
    "colab": {
     "base_uri": "https://localhost:8080/"
    },
    "id": "K60Q_rPdIvT7",
    "outputId": "f63986e0-022a-46f6-8ab0-94d9124e5c1a"
   },
   "outputs": [],
   "source": [
    "# Load the dataset\n",
    "file_path = '/content/drive/MyDrive/SAdata_allMeasures.csv'\n",
    "data = pd.read_csv(file_path)\n",
    "print(data.shape)\n",
    "print(data.head())"
   ]
  },
  {
   "cell_type": "markdown",
   "source": [
    "2.2"
   ],
   "metadata": {
    "id": "zivtrM6DPntD"
   }
  },
  {
   "cell_type": "code",
   "source": [
    "# Basic dataset info\n",
    "print(data.info())\n",
    "\n"
   ],
   "metadata": {
    "colab": {
     "base_uri": "https://localhost:8080/"
    },
    "id": "ARp_VbDOPoyK",
    "outputId": "dc145595-a536-4b4c-88f8-655611daa5df"
   },
   "execution_count": null,
   "outputs": []
  },
  {
   "cell_type": "code",
   "source": [
    "print(data.describe())\n"
   ],
   "metadata": {
    "colab": {
     "base_uri": "https://localhost:8080/"
    },
    "id": "SgWoTiFNP_me",
    "outputId": "a1417220-18d9-42be-8e06-143120bcae3f"
   },
   "execution_count": null,
   "outputs": []
  },
  {
   "cell_type": "code",
   "source": [
    "# Check for missing values\n",
    "print(data.isnull().sum())\n"
   ],
   "metadata": {
    "colab": {
     "base_uri": "https://localhost:8080/"
    },
    "id": "--jlHHbmQGRb",
    "outputId": "08c9a975-a1de-43d7-8c71-6694c408fc16"
   },
   "execution_count": null,
   "outputs": []
  },
  {
   "cell_type": "code",
   "source": [
    "# Plotting correlation heatmap to understand feature relationships\n",
    "plt.figure(figsize=(20,20))\n",
    "sns.heatmap(data.corr(), annot=True, cmap='coolwarm', fmt='.2f')\n",
    "plt.title('Correlation Heatmap of Features')\n",
    "plt.show()\n"
   ],
   "metadata": {
    "colab": {
     "base_uri": "https://localhost:8080/",
     "height": 1000
    },
    "id": "do59ppkoQKvR",
    "outputId": "7f8cbbd0-ea3a-405e-f2a2-a3551f7e6a45"
   },
   "execution_count": null,
   "outputs": []
  },
  {
   "cell_type": "code",
   "source": [
    "# Distribution of target variable\n",
    "plt.figure(figsize=(6, 4))\n",
    "sns.histplot(data['Y'], kde=True)\n",
    "plt.title('Distribution of Situation Awareness')\n",
    "plt.show()"
   ],
   "metadata": {
    "colab": {
     "base_uri": "https://localhost:8080/",
     "height": 410
    },
    "id": "YO9vcgc-RZoD",
    "outputId": "87d20dbf-e4bb-434e-c373-c3a34fa37535"
   },
   "execution_count": null,
   "outputs": []
  },
  {
   "cell_type": "markdown",
   "source": [
    "2.3)"
   ],
   "metadata": {
    "id": "qJeR2QHaXUIq"
   }
  },
  {
   "cell_type": "markdown",
   "source": [
    "2.4)"
   ],
   "metadata": {
    "id": "XzXjpGEmXWlM"
   }
  },
  {
   "cell_type": "code",
   "source": [
    "# Define target and features\n",
    "target_column = 'Y'  # The target variable\n",
    "categorical_features = ['gender', 'temp_decision_made', 'CarPlacedLeft', 'CarPlacedRight']\n",
    "numerical_features = [col for col in data.columns if col not in categorical_features + [target_column]]\n"
   ],
   "metadata": {
    "id": "lhgH4G21X3bZ"
   },
   "execution_count": null,
   "outputs": []
  },
  {
   "cell_type": "code",
   "source": [
    "# Feature scaling for numeric features\n",
    "scaler = StandardScaler()\n",
    "scaled_data = data.copy()\n",
    "scaled_data[numerical_features] = scaler.fit_transform(scaled_data[numerical_features])  # Assuming last column is target\n",
    "\n",
    "# Train-test split\n",
    "X = scaled_data.drop(columns=[target_column])  # Features # Drop only the target column\n",
    "y = scaled_data[target_column]  # Target variable\n",
    "\n",
    "# Define categorical transformer using OneHotEncoder\n",
    "categorical_transformer = OneHotEncoder(sparse_output=False, handle_unknown='ignore') # Define OneHotEncoder\n",
    "\n",
    "# ColumnTransformer applies OneHotEncoder to the categorical columns and leaves the numerical features untouched\n",
    "preprocessor = ColumnTransformer(\n",
    "    transformers=[\n",
    "        ('cat', categorical_transformer, categorical_features) # Apply OneHotEncoder to categorical columns\n",
    "    ], remainder='passthrough')  # Leave numerical features as they are\n",
    "X_train, X_test, y_train, y_test = train_test_split(X, y, test_size=0.2, random_state=42)"
   ],
   "metadata": {
    "collapsed": true,
    "id": "hsHlVHJuXTz9"
   },
   "execution_count": null,
   "outputs": []
  },
  {
   "cell_type": "markdown",
   "source": [
    "2.5)"
   ],
   "metadata": {
    "id": "YnMYkay9ae9v"
   }
  },
  {
   "cell_type": "markdown",
   "source": [
    "# Model Implementation LightGbm"
   ],
   "metadata": {
    "id": "0u3JU0-ia32w"
   }
  },
  {
   "cell_type": "code",
   "source": [
    "# Train LightGBM Model\n",
    "lgb_params = {\n",
    "    'objective': 'regression',\n",
    "    'metric': ['rmse', 'l2'],\n",
    "    'learning_rate': 0.1,\n",
    "    'num_leaves': 50,\n",
    "    'random_state': 42,\n",
    "    'subsample': 1.0,\n",
    "    'reg_lambda': 0,\n",
    "    'reg_alpha': 1,\n",
    "    'n_estimators': 100,\n",
    "    'min_child_samples': 10,\n",
    "    'max_depth': 3,\n",
    "    'learning_rate': 0.2,\n",
    "    'colsample_bytree': 0.7,\n",
    "    'bagging_fraction': 0.8,\n",
    "\n",
    "}\n",
    "\n",
    "\n",
    "train_data = lgb.Dataset(X_train, label=y_train)\n",
    "test_data = lgb.Dataset(X_test, label=y_test, reference=train_data)\n",
    "evals_result_lgb = {}\n",
    "\n",
    "lgb_model = lgb.train(\n",
    "    lgb_params,\n",
    "    train_data,\n",
    "    num_boost_round=100,\n",
    "    valid_sets=[train_data, test_data],\n",
    "    valid_names=['train', 'eval'],\n",
    "    callbacks=[lgb.record_evaluation(evals_result_lgb)]\n",
    ")\n",
    "\n",
    "# Evaluate performance\n",
    "y_pred_lgb = lgb_model.predict(X_test)\n",
    "rmse_lgb = np.sqrt(mean_squared_error(y_test, y_pred_lgb))\n",
    "mae_lgb = mean_absolute_error(y_test, y_pred_lgb)\n",
    "\n",
    "print(f'RMSE (LightGBM): {rmse_lgb}')\n",
    "print(f'MAE (LightGBM): {mae_lgb}')\n"
   ],
   "metadata": {
    "colab": {
     "base_uri": "https://localhost:8080/"
    },
    "id": "yNuU2V7TXTfG",
    "outputId": "e814c53d-a87a-4885-da16-21be7949dd50"
   },
   "execution_count": null,
   "outputs": []
  },
  {
   "cell_type": "markdown",
   "source": [
    " RandomizedSearchCV"
   ],
   "metadata": {
    "id": "aQVT8Af7eAJE"
   }
  },
  {
   "cell_type": "code",
   "source": [
    "# Use the same parameter grid\n",
    "param_dist_lgb = {\n",
    "    'learning_rate': [0.01, 0.05, 0.1, 0.2],\n",
    "    'num_leaves': [20, 31, 50, 70],\n",
    "    'max_depth': [3, 5, 7, -1],\n",
    "    'n_estimators': [50, 100, 200],\n",
    "    'subsample': [0.7, 0.8, 0.9, 1.0],\n",
    "    'colsample_bytree': [0.7, 0.8, 1.0],\n",
    "    'reg_lambda': [0, 0.1, 1],\n",
    "    'reg_alpha': [0, 0.1, 1],\n",
    "    'min_child_samples': [10, 20, 30]\n",
    "}\n",
    "\n",
    "# Initialize LightGBM model\n",
    "lgb_model = lgb.LGBMRegressor(objective='regression', random_state=42)\n",
    "\n",
    "# RandomizedSearchCV for LightGBM\n",
    "random_search_lgb = RandomizedSearchCV(\n",
    "    estimator=lgb_model,\n",
    "    param_distributions=param_dist_lgb,\n",
    "    n_iter=50,  # Limit to 50 random combinations\n",
    "    cv=5,\n",
    "    scoring='neg_mean_squared_error',\n",
    "    verbose=1,\n",
    "    n_jobs=-1,\n",
    "    random_state=42\n",
    ")\n",
    "# Apply the preprocessor to X_train and X_test\n",
    "X_train_processed = preprocessor.fit_transform(X_train)\n",
    "X_test_processed = preprocessor.transform(X_test)\n",
    "\n",
    "# Fit the model\n",
    "random_search_lgb.fit(X_train_processed, y_train)\n",
    "\n",
    "# Best parameters and score\n",
    "print(\"Best parameters for LightGBM:\", random_search_lgb.best_params_)\n",
    "print(\"Best RMSE (negative MSE):\", (-random_search_lgb.best_score_)**0.5)"
   ],
   "metadata": {
    "colab": {
     "base_uri": "https://localhost:8080/"
    },
    "id": "K065VE-YdND8",
    "outputId": "cd70e0f0-c289-4d5a-91bc-5d5243c8e5ee"
   },
   "execution_count": null,
   "outputs": []
  },
  {
   "cell_type": "markdown",
   "source": [
    "#  SHAP for LightGBM model"
   ],
   "metadata": {
    "id": "BOnLMi6fkRNC"
   }
  },
  {
   "cell_type": "code",
   "source": [
    "import shap\n",
    "# SHAP for LightGBM model\n",
    "explainer_lgb = shap.TreeExplainer(lgb_model)\n",
    "\n",
    "# Generate SHAP values for the test set\n",
    "shap_values_lgb = explainer_lgb.shap_values(X_test)\n",
    "\n",
    "# Plot SHAP summary plot\n",
    "shap.summary_plot(shap_values_lgb, X_test)\n"
   ],
   "metadata": {
    "colab": {
     "base_uri": "https://localhost:8080/",
     "height": 957
    },
    "id": "cxHPBTVqkKfI",
    "outputId": "35a75910-feb3-43cf-c419-f4e3127bcc33"
   },
   "execution_count": null,
   "outputs": []
  },
  {
   "cell_type": "code",
   "source": [
    "import shap\n",
    "\n",
    "# Get the best model from RandomizedSearchCV\n",
    "best_lgb_model = random_search_lgb.best_estimator_\n",
    "\n",
    "# Create a new TreeExplainer with the best model\n",
    "explainer_lgb = shap.TreeExplainer(best_lgb_model)\n",
    "\n",
    "# Calculate SHAP values using the processed data (X_test_processed)\n",
    "shap_values_lgb = explainer_lgb.shap_values(X_test_processed)\n",
    "\n",
    "# Plot the SHAP summary plot\n",
    "shap.summary_plot(shap_values_lgb, X_test_processed, plot_type=\"bar\")\n"
   ],
   "metadata": {
    "colab": {
     "base_uri": "https://localhost:8080/",
     "height": 957
    },
    "id": "934XTmUZvjcL",
    "outputId": "f7e77384-2c0d-4010-ffb9-94d3e67d2081"
   },
   "execution_count": null,
   "outputs": []
  },
  {
   "cell_type": "markdown",
   "source": [
    "Model Implementation Linear Regression"
   ],
   "metadata": {
    "id": "AfxQ5VsSa_yu"
   }
  },
  {
   "cell_type": "code",
   "source": [
    "# Apply the preprocessor to X_train and X_test before fitting the lr_model\n",
    "X_train_processed = preprocessor.fit_transform(X_train)\n",
    "X_test_processed = preprocessor.transform(X_test)\n",
    "\n",
    "# Train Linear Regression Model using the processed data\n",
    "lr_model = LinearRegression()\n",
    "lr_model.fit(X_train_processed, y_train)  # Fit with transformed data\n",
    "\n",
    "# Evaluate performance\n",
    "y_pred_lr = lr_model.predict(X_test_processed)  # Predict with transformed data\n",
    "rmse_lr = np.sqrt(mean_squared_error(y_test, y_pred_lr))\n",
    "mae_lr = mean_absolute_error(y_test, y_pred_lr)\n",
    "\n",
    "print(f'RMSE (Linear Regression): {rmse_lr}')\n",
    "print(f'MAE (Linear Regression): {mae_lr}')"
   ],
   "metadata": {
    "colab": {
     "base_uri": "https://localhost:8080/"
    },
    "id": "DsAks1kNbDEm",
    "outputId": "a7d64534-9199-4212-c1e7-4fe3b536cfd8"
   },
   "execution_count": null,
   "outputs": []
  },
  {
   "cell_type": "code",
   "source": [
    "# SHAP for linear regression using KernelExplainer\n",
    "explainer_lr = shap.KernelExplainer(lr_model.predict, X_train_processed)\n",
    "shap_values_lr = explainer_lr.shap_values(X_test_processed)\n",
    "\n",
    "# Plot SHAP summary plot\n",
    "shap.summary_plot(shap_values_lr, X_test_processed)\n"
   ],
   "metadata": {
    "colab": {
     "base_uri": "https://localhost:8080/",
     "height": 1000,
     "referenced_widgets": [
      "ed4ad488af87422da6026e2c771107d0",
      "5f0d5eb0c2824b96b5642d140f396490",
      "815824b2a7464cfc8f36b3939d55cc8d",
      "477e657cb1f84c24bd34d04e82d917fd",
      "6d51e72cf383483fa8d60f78f1890a84",
      "f7a9871c985a4bf5b686e1311d478e69",
      "3352deb4504a403fad3ac3b9fd031665",
      "fb57f046dc924c1ea61a70d2a972d6f0",
      "e932865d4f1448d5b80e08dc22b7bacf",
      "c23b645e9a39491ba75cbb820bcf499d",
      "ecce39c4accf4a16b6f223edc4781bc6"
     ]
    },
    "id": "FWJ54YSPkhvL",
    "outputId": "0c1bc04c-8502-4257-9aa9-e90d8ecaa22e"
   },
   "execution_count": null,
   "outputs": []
  }
 ]
}